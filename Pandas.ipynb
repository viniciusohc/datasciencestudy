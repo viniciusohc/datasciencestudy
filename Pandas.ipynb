{
  "nbformat": 4,
  "nbformat_minor": 0,
  "metadata": {
    "colab": {
      "provenance": [],
      "authorship_tag": "ABX9TyM0dnFeabcZLaHE3nYe6rLb"
    },
    "kernelspec": {
      "name": "python3",
      "display_name": "Python 3"
    },
    "language_info": {
      "name": "python"
    }
  },
  "cells": [
    {
      "cell_type": "code",
      "execution_count": 168,
      "metadata": {
        "id": "Rijt-TrhG-8Z"
      },
      "outputs": [],
      "source": [
        "import pandas as pd"
      ]
    },
    {
      "cell_type": "code",
      "source": [
        "Covid_live = pd.read_csv('Covid Live.csv')"
      ],
      "metadata": {
        "id": "5fygdoGkHZQY"
      },
      "execution_count": 169,
      "outputs": []
    },
    {
      "cell_type": "code",
      "source": [
        "Covid_live.head(3)"
      ],
      "metadata": {
        "colab": {
          "base_uri": "https://localhost:8080/",
          "height": 242
        },
        "id": "6jBW-FD5Line",
        "outputId": "eec2a1ef-9457-497b-d350-ed976d4023ae"
      },
      "execution_count": 170,
      "outputs": [
        {
          "output_type": "execute_result",
          "data": {
            "text/plain": [
              "   # Country,\\nOther Total\\nCases Total\\nDeaths  New\\nDeaths Total\\nRecovered  \\\n",
              "0  1             USA   98,166,904     1,084,282          NaN       94,962,112   \n",
              "1  2           India   44,587,307       528,629          NaN       44,019,095   \n",
              "2  3          France   35,342,950       155,078          NaN       34,527,115   \n",
              "\n",
              "  Active\\nCases Serious,\\nCritical Tot Cases/\\n1M pop Deaths/\\n1M pop  \\\n",
              "0     2,120,510              2,970            293,206           3,239   \n",
              "1        39,583                698             31,698             376   \n",
              "2       660,757                869            538,892           2,365   \n",
              "\n",
              "    Total\\nTests Tests/\\n1M pop     Population  \n",
              "0  1,118,158,870      3,339,729    334,805,269  \n",
              "1    894,416,853        635,857  1,406,631,776  \n",
              "2    271,490,188      4,139,547     65,584,518  "
            ],
            "text/html": [
              "\n",
              "  <div id=\"df-7f559023-ce00-4f0f-999a-a244fd4cf794\">\n",
              "    <div class=\"colab-df-container\">\n",
              "      <div>\n",
              "<style scoped>\n",
              "    .dataframe tbody tr th:only-of-type {\n",
              "        vertical-align: middle;\n",
              "    }\n",
              "\n",
              "    .dataframe tbody tr th {\n",
              "        vertical-align: top;\n",
              "    }\n",
              "\n",
              "    .dataframe thead th {\n",
              "        text-align: right;\n",
              "    }\n",
              "</style>\n",
              "<table border=\"1\" class=\"dataframe\">\n",
              "  <thead>\n",
              "    <tr style=\"text-align: right;\">\n",
              "      <th></th>\n",
              "      <th>#</th>\n",
              "      <th>Country,\\nOther</th>\n",
              "      <th>Total\\nCases</th>\n",
              "      <th>Total\\nDeaths</th>\n",
              "      <th>New\\nDeaths</th>\n",
              "      <th>Total\\nRecovered</th>\n",
              "      <th>Active\\nCases</th>\n",
              "      <th>Serious,\\nCritical</th>\n",
              "      <th>Tot Cases/\\n1M pop</th>\n",
              "      <th>Deaths/\\n1M pop</th>\n",
              "      <th>Total\\nTests</th>\n",
              "      <th>Tests/\\n1M pop</th>\n",
              "      <th>Population</th>\n",
              "    </tr>\n",
              "  </thead>\n",
              "  <tbody>\n",
              "    <tr>\n",
              "      <th>0</th>\n",
              "      <td>1</td>\n",
              "      <td>USA</td>\n",
              "      <td>98,166,904</td>\n",
              "      <td>1,084,282</td>\n",
              "      <td>NaN</td>\n",
              "      <td>94,962,112</td>\n",
              "      <td>2,120,510</td>\n",
              "      <td>2,970</td>\n",
              "      <td>293,206</td>\n",
              "      <td>3,239</td>\n",
              "      <td>1,118,158,870</td>\n",
              "      <td>3,339,729</td>\n",
              "      <td>334,805,269</td>\n",
              "    </tr>\n",
              "    <tr>\n",
              "      <th>1</th>\n",
              "      <td>2</td>\n",
              "      <td>India</td>\n",
              "      <td>44,587,307</td>\n",
              "      <td>528,629</td>\n",
              "      <td>NaN</td>\n",
              "      <td>44,019,095</td>\n",
              "      <td>39,583</td>\n",
              "      <td>698</td>\n",
              "      <td>31,698</td>\n",
              "      <td>376</td>\n",
              "      <td>894,416,853</td>\n",
              "      <td>635,857</td>\n",
              "      <td>1,406,631,776</td>\n",
              "    </tr>\n",
              "    <tr>\n",
              "      <th>2</th>\n",
              "      <td>3</td>\n",
              "      <td>France</td>\n",
              "      <td>35,342,950</td>\n",
              "      <td>155,078</td>\n",
              "      <td>NaN</td>\n",
              "      <td>34,527,115</td>\n",
              "      <td>660,757</td>\n",
              "      <td>869</td>\n",
              "      <td>538,892</td>\n",
              "      <td>2,365</td>\n",
              "      <td>271,490,188</td>\n",
              "      <td>4,139,547</td>\n",
              "      <td>65,584,518</td>\n",
              "    </tr>\n",
              "  </tbody>\n",
              "</table>\n",
              "</div>\n",
              "      <button class=\"colab-df-convert\" onclick=\"convertToInteractive('df-7f559023-ce00-4f0f-999a-a244fd4cf794')\"\n",
              "              title=\"Convert this dataframe to an interactive table.\"\n",
              "              style=\"display:none;\">\n",
              "        \n",
              "  <svg xmlns=\"http://www.w3.org/2000/svg\" height=\"24px\"viewBox=\"0 0 24 24\"\n",
              "       width=\"24px\">\n",
              "    <path d=\"M0 0h24v24H0V0z\" fill=\"none\"/>\n",
              "    <path d=\"M18.56 5.44l.94 2.06.94-2.06 2.06-.94-2.06-.94-.94-2.06-.94 2.06-2.06.94zm-11 1L8.5 8.5l.94-2.06 2.06-.94-2.06-.94L8.5 2.5l-.94 2.06-2.06.94zm10 10l.94 2.06.94-2.06 2.06-.94-2.06-.94-.94-2.06-.94 2.06-2.06.94z\"/><path d=\"M17.41 7.96l-1.37-1.37c-.4-.4-.92-.59-1.43-.59-.52 0-1.04.2-1.43.59L10.3 9.45l-7.72 7.72c-.78.78-.78 2.05 0 2.83L4 21.41c.39.39.9.59 1.41.59.51 0 1.02-.2 1.41-.59l7.78-7.78 2.81-2.81c.8-.78.8-2.07 0-2.86zM5.41 20L4 18.59l7.72-7.72 1.47 1.35L5.41 20z\"/>\n",
              "  </svg>\n",
              "      </button>\n",
              "      \n",
              "  <style>\n",
              "    .colab-df-container {\n",
              "      display:flex;\n",
              "      flex-wrap:wrap;\n",
              "      gap: 12px;\n",
              "    }\n",
              "\n",
              "    .colab-df-convert {\n",
              "      background-color: #E8F0FE;\n",
              "      border: none;\n",
              "      border-radius: 50%;\n",
              "      cursor: pointer;\n",
              "      display: none;\n",
              "      fill: #1967D2;\n",
              "      height: 32px;\n",
              "      padding: 0 0 0 0;\n",
              "      width: 32px;\n",
              "    }\n",
              "\n",
              "    .colab-df-convert:hover {\n",
              "      background-color: #E2EBFA;\n",
              "      box-shadow: 0px 1px 2px rgba(60, 64, 67, 0.3), 0px 1px 3px 1px rgba(60, 64, 67, 0.15);\n",
              "      fill: #174EA6;\n",
              "    }\n",
              "\n",
              "    [theme=dark] .colab-df-convert {\n",
              "      background-color: #3B4455;\n",
              "      fill: #D2E3FC;\n",
              "    }\n",
              "\n",
              "    [theme=dark] .colab-df-convert:hover {\n",
              "      background-color: #434B5C;\n",
              "      box-shadow: 0px 1px 3px 1px rgba(0, 0, 0, 0.15);\n",
              "      filter: drop-shadow(0px 1px 2px rgba(0, 0, 0, 0.3));\n",
              "      fill: #FFFFFF;\n",
              "    }\n",
              "  </style>\n",
              "\n",
              "      <script>\n",
              "        const buttonEl =\n",
              "          document.querySelector('#df-7f559023-ce00-4f0f-999a-a244fd4cf794 button.colab-df-convert');\n",
              "        buttonEl.style.display =\n",
              "          google.colab.kernel.accessAllowed ? 'block' : 'none';\n",
              "\n",
              "        async function convertToInteractive(key) {\n",
              "          const element = document.querySelector('#df-7f559023-ce00-4f0f-999a-a244fd4cf794');\n",
              "          const dataTable =\n",
              "            await google.colab.kernel.invokeFunction('convertToInteractive',\n",
              "                                                     [key], {});\n",
              "          if (!dataTable) return;\n",
              "\n",
              "          const docLinkHtml = 'Like what you see? Visit the ' +\n",
              "            '<a target=\"_blank\" href=https://colab.research.google.com/notebooks/data_table.ipynb>data table notebook</a>'\n",
              "            + ' to learn more about interactive tables.';\n",
              "          element.innerHTML = '';\n",
              "          dataTable['output_type'] = 'display_data';\n",
              "          await google.colab.output.renderOutput(dataTable, element);\n",
              "          const docLink = document.createElement('div');\n",
              "          docLink.innerHTML = docLinkHtml;\n",
              "          element.appendChild(docLink);\n",
              "        }\n",
              "      </script>\n",
              "    </div>\n",
              "  </div>\n",
              "  "
            ]
          },
          "metadata": {},
          "execution_count": 170
        }
      ]
    },
    {
      "cell_type": "markdown",
      "source": [
        "### Renomear as colunas para ficar melhor para analisar os dados e melhor o index"
      ],
      "metadata": {
        "id": "YKz8bO8YL1tC"
      }
    },
    {
      "cell_type": "code",
      "source": [
        "colunas = Covid_live.columns\n",
        "colunas"
      ],
      "metadata": {
        "colab": {
          "base_uri": "https://localhost:8080/"
        },
        "id": "KE24XW5UJJ4Y",
        "outputId": "149a010d-4d7c-4421-ccce-31a1bc782622"
      },
      "execution_count": 171,
      "outputs": [
        {
          "output_type": "execute_result",
          "data": {
            "text/plain": [
              "Index(['#', 'Country,\\nOther', 'Total\\nCases', 'Total\\nDeaths', 'New\\nDeaths',\n",
              "       'Total\\nRecovered', 'Active\\nCases', 'Serious,\\nCritical',\n",
              "       'Tot Cases/\\n1M pop', 'Deaths/\\n1M pop', 'Total\\nTests',\n",
              "       'Tests/\\n1M pop', 'Population'],\n",
              "      dtype='object')"
            ]
          },
          "metadata": {},
          "execution_count": 171
        }
      ]
    },
    {
      "cell_type": "code",
      "source": [
        "Covid_live.rename(columns = {\"#\":\"Id\",\n",
        "                             \"Country,\\nOther\":\"Country\",\n",
        "                             \"Total\\nCases\":\"Total_Cases\",\n",
        "                             \"Total\\nDeaths\":\"Total_Deaths\",\n",
        "                             \"New\\nDeaths\":\"New_Deaths\",\n",
        "                             \"Total\\nRecovered\":\"Total_Recovered\",\n",
        "                             \"Active\\nCases\":\"Active_Cases\",\n",
        "                             \"Serious,\\nCritical\":\"Serious_Critical\",\n",
        "                             \"Tot Cases/\\n1M pop\":\"Total_Cases_1Mpop\",\n",
        "                             \"Deaths/\\n1M pop\":\"Deaths_1Mpop\",\n",
        "                             \"Total\\nTests\":\"Total_Tests\",\n",
        "                             \"Tests/\\n1M pop\":\"Tests_1Mpop\"}, inplace=True)"
      ],
      "metadata": {
        "id": "Y-j3nPhsIxVm"
      },
      "execution_count": 172,
      "outputs": []
    },
    {
      "cell_type": "code",
      "source": [
        "Covid_live = Covid_live.set_index('Id')"
      ],
      "metadata": {
        "id": "pWUrAXWkeah-"
      },
      "execution_count": 173,
      "outputs": []
    },
    {
      "cell_type": "code",
      "source": [
        "colunas = Covid_live.columns\n",
        "colunas"
      ],
      "metadata": {
        "colab": {
          "base_uri": "https://localhost:8080/"
        },
        "id": "aO3IbfNmfq_7",
        "outputId": "77d889f6-541a-43b0-a317-97704e7a6b95"
      },
      "execution_count": 174,
      "outputs": [
        {
          "output_type": "execute_result",
          "data": {
            "text/plain": [
              "Index(['Country', 'Total_Cases', 'Total_Deaths', 'New_Deaths',\n",
              "       'Total_Recovered', 'Active_Cases', 'Serious_Critical',\n",
              "       'Total_Cases_1Mpop', 'Deaths_1Mpop', 'Total_Tests', 'Tests_1Mpop',\n",
              "       'Population'],\n",
              "      dtype='object')"
            ]
          },
          "metadata": {},
          "execution_count": 174
        }
      ]
    },
    {
      "cell_type": "markdown",
      "source": [
        "### Reconhecer os dados, analisar os dados da tabela cru"
      ],
      "metadata": {
        "id": "Cijtvr6mH0b-"
      }
    },
    {
      "cell_type": "code",
      "source": [
        "#Mostrar as 5 primeiras linhas do dataframe\n",
        "Covid_live.head(5)"
      ],
      "metadata": {
        "colab": {
          "base_uri": "https://localhost:8080/",
          "height": 302
        },
        "id": "sQ4rIbs2HxJu",
        "outputId": "087ee4eb-f407-43b3-ec86-7900389cec72"
      },
      "execution_count": 175,
      "outputs": [
        {
          "output_type": "execute_result",
          "data": {
            "text/plain": [
              "    Country Total_Cases Total_Deaths  New_Deaths Total_Recovered Active_Cases  \\\n",
              "Id                                                                              \n",
              "1       USA  98,166,904    1,084,282         NaN      94,962,112    2,120,510   \n",
              "2     India  44,587,307      528,629         NaN      44,019,095       39,583   \n",
              "3    France  35,342,950      155,078         NaN      34,527,115      660,757   \n",
              "4    Brazil  34,706,757      686,027         NaN      33,838,636      182,094   \n",
              "5   Germany  33,312,373      149,948         NaN      32,315,200      847,225   \n",
              "\n",
              "   Serious_Critical Total_Cases_1Mpop Deaths_1Mpop    Total_Tests Tests_1Mpop  \\\n",
              "Id                                                                              \n",
              "1             2,970           293,206        3,239  1,118,158,870   3,339,729   \n",
              "2               698            31,698          376    894,416,853     635,857   \n",
              "3               869           538,892        2,365    271,490,188   4,139,547   \n",
              "4             8,318           161,162        3,186     63,776,166     296,146   \n",
              "5             1,406           397,126        1,788    122,332,384   1,458,359   \n",
              "\n",
              "       Population  \n",
              "Id                 \n",
              "1     334,805,269  \n",
              "2   1,406,631,776  \n",
              "3      65,584,518  \n",
              "4     215,353,593  \n",
              "5      83,883,596  "
            ],
            "text/html": [
              "\n",
              "  <div id=\"df-fd5a51e9-93a0-45d8-9836-5915e755a9ea\">\n",
              "    <div class=\"colab-df-container\">\n",
              "      <div>\n",
              "<style scoped>\n",
              "    .dataframe tbody tr th:only-of-type {\n",
              "        vertical-align: middle;\n",
              "    }\n",
              "\n",
              "    .dataframe tbody tr th {\n",
              "        vertical-align: top;\n",
              "    }\n",
              "\n",
              "    .dataframe thead th {\n",
              "        text-align: right;\n",
              "    }\n",
              "</style>\n",
              "<table border=\"1\" class=\"dataframe\">\n",
              "  <thead>\n",
              "    <tr style=\"text-align: right;\">\n",
              "      <th></th>\n",
              "      <th>Country</th>\n",
              "      <th>Total_Cases</th>\n",
              "      <th>Total_Deaths</th>\n",
              "      <th>New_Deaths</th>\n",
              "      <th>Total_Recovered</th>\n",
              "      <th>Active_Cases</th>\n",
              "      <th>Serious_Critical</th>\n",
              "      <th>Total_Cases_1Mpop</th>\n",
              "      <th>Deaths_1Mpop</th>\n",
              "      <th>Total_Tests</th>\n",
              "      <th>Tests_1Mpop</th>\n",
              "      <th>Population</th>\n",
              "    </tr>\n",
              "    <tr>\n",
              "      <th>Id</th>\n",
              "      <th></th>\n",
              "      <th></th>\n",
              "      <th></th>\n",
              "      <th></th>\n",
              "      <th></th>\n",
              "      <th></th>\n",
              "      <th></th>\n",
              "      <th></th>\n",
              "      <th></th>\n",
              "      <th></th>\n",
              "      <th></th>\n",
              "      <th></th>\n",
              "    </tr>\n",
              "  </thead>\n",
              "  <tbody>\n",
              "    <tr>\n",
              "      <th>1</th>\n",
              "      <td>USA</td>\n",
              "      <td>98,166,904</td>\n",
              "      <td>1,084,282</td>\n",
              "      <td>NaN</td>\n",
              "      <td>94,962,112</td>\n",
              "      <td>2,120,510</td>\n",
              "      <td>2,970</td>\n",
              "      <td>293,206</td>\n",
              "      <td>3,239</td>\n",
              "      <td>1,118,158,870</td>\n",
              "      <td>3,339,729</td>\n",
              "      <td>334,805,269</td>\n",
              "    </tr>\n",
              "    <tr>\n",
              "      <th>2</th>\n",
              "      <td>India</td>\n",
              "      <td>44,587,307</td>\n",
              "      <td>528,629</td>\n",
              "      <td>NaN</td>\n",
              "      <td>44,019,095</td>\n",
              "      <td>39,583</td>\n",
              "      <td>698</td>\n",
              "      <td>31,698</td>\n",
              "      <td>376</td>\n",
              "      <td>894,416,853</td>\n",
              "      <td>635,857</td>\n",
              "      <td>1,406,631,776</td>\n",
              "    </tr>\n",
              "    <tr>\n",
              "      <th>3</th>\n",
              "      <td>France</td>\n",
              "      <td>35,342,950</td>\n",
              "      <td>155,078</td>\n",
              "      <td>NaN</td>\n",
              "      <td>34,527,115</td>\n",
              "      <td>660,757</td>\n",
              "      <td>869</td>\n",
              "      <td>538,892</td>\n",
              "      <td>2,365</td>\n",
              "      <td>271,490,188</td>\n",
              "      <td>4,139,547</td>\n",
              "      <td>65,584,518</td>\n",
              "    </tr>\n",
              "    <tr>\n",
              "      <th>4</th>\n",
              "      <td>Brazil</td>\n",
              "      <td>34,706,757</td>\n",
              "      <td>686,027</td>\n",
              "      <td>NaN</td>\n",
              "      <td>33,838,636</td>\n",
              "      <td>182,094</td>\n",
              "      <td>8,318</td>\n",
              "      <td>161,162</td>\n",
              "      <td>3,186</td>\n",
              "      <td>63,776,166</td>\n",
              "      <td>296,146</td>\n",
              "      <td>215,353,593</td>\n",
              "    </tr>\n",
              "    <tr>\n",
              "      <th>5</th>\n",
              "      <td>Germany</td>\n",
              "      <td>33,312,373</td>\n",
              "      <td>149,948</td>\n",
              "      <td>NaN</td>\n",
              "      <td>32,315,200</td>\n",
              "      <td>847,225</td>\n",
              "      <td>1,406</td>\n",
              "      <td>397,126</td>\n",
              "      <td>1,788</td>\n",
              "      <td>122,332,384</td>\n",
              "      <td>1,458,359</td>\n",
              "      <td>83,883,596</td>\n",
              "    </tr>\n",
              "  </tbody>\n",
              "</table>\n",
              "</div>\n",
              "      <button class=\"colab-df-convert\" onclick=\"convertToInteractive('df-fd5a51e9-93a0-45d8-9836-5915e755a9ea')\"\n",
              "              title=\"Convert this dataframe to an interactive table.\"\n",
              "              style=\"display:none;\">\n",
              "        \n",
              "  <svg xmlns=\"http://www.w3.org/2000/svg\" height=\"24px\"viewBox=\"0 0 24 24\"\n",
              "       width=\"24px\">\n",
              "    <path d=\"M0 0h24v24H0V0z\" fill=\"none\"/>\n",
              "    <path d=\"M18.56 5.44l.94 2.06.94-2.06 2.06-.94-2.06-.94-.94-2.06-.94 2.06-2.06.94zm-11 1L8.5 8.5l.94-2.06 2.06-.94-2.06-.94L8.5 2.5l-.94 2.06-2.06.94zm10 10l.94 2.06.94-2.06 2.06-.94-2.06-.94-.94-2.06-.94 2.06-2.06.94z\"/><path d=\"M17.41 7.96l-1.37-1.37c-.4-.4-.92-.59-1.43-.59-.52 0-1.04.2-1.43.59L10.3 9.45l-7.72 7.72c-.78.78-.78 2.05 0 2.83L4 21.41c.39.39.9.59 1.41.59.51 0 1.02-.2 1.41-.59l7.78-7.78 2.81-2.81c.8-.78.8-2.07 0-2.86zM5.41 20L4 18.59l7.72-7.72 1.47 1.35L5.41 20z\"/>\n",
              "  </svg>\n",
              "      </button>\n",
              "      \n",
              "  <style>\n",
              "    .colab-df-container {\n",
              "      display:flex;\n",
              "      flex-wrap:wrap;\n",
              "      gap: 12px;\n",
              "    }\n",
              "\n",
              "    .colab-df-convert {\n",
              "      background-color: #E8F0FE;\n",
              "      border: none;\n",
              "      border-radius: 50%;\n",
              "      cursor: pointer;\n",
              "      display: none;\n",
              "      fill: #1967D2;\n",
              "      height: 32px;\n",
              "      padding: 0 0 0 0;\n",
              "      width: 32px;\n",
              "    }\n",
              "\n",
              "    .colab-df-convert:hover {\n",
              "      background-color: #E2EBFA;\n",
              "      box-shadow: 0px 1px 2px rgba(60, 64, 67, 0.3), 0px 1px 3px 1px rgba(60, 64, 67, 0.15);\n",
              "      fill: #174EA6;\n",
              "    }\n",
              "\n",
              "    [theme=dark] .colab-df-convert {\n",
              "      background-color: #3B4455;\n",
              "      fill: #D2E3FC;\n",
              "    }\n",
              "\n",
              "    [theme=dark] .colab-df-convert:hover {\n",
              "      background-color: #434B5C;\n",
              "      box-shadow: 0px 1px 3px 1px rgba(0, 0, 0, 0.15);\n",
              "      filter: drop-shadow(0px 1px 2px rgba(0, 0, 0, 0.3));\n",
              "      fill: #FFFFFF;\n",
              "    }\n",
              "  </style>\n",
              "\n",
              "      <script>\n",
              "        const buttonEl =\n",
              "          document.querySelector('#df-fd5a51e9-93a0-45d8-9836-5915e755a9ea button.colab-df-convert');\n",
              "        buttonEl.style.display =\n",
              "          google.colab.kernel.accessAllowed ? 'block' : 'none';\n",
              "\n",
              "        async function convertToInteractive(key) {\n",
              "          const element = document.querySelector('#df-fd5a51e9-93a0-45d8-9836-5915e755a9ea');\n",
              "          const dataTable =\n",
              "            await google.colab.kernel.invokeFunction('convertToInteractive',\n",
              "                                                     [key], {});\n",
              "          if (!dataTable) return;\n",
              "\n",
              "          const docLinkHtml = 'Like what you see? Visit the ' +\n",
              "            '<a target=\"_blank\" href=https://colab.research.google.com/notebooks/data_table.ipynb>data table notebook</a>'\n",
              "            + ' to learn more about interactive tables.';\n",
              "          element.innerHTML = '';\n",
              "          dataTable['output_type'] = 'display_data';\n",
              "          await google.colab.output.renderOutput(dataTable, element);\n",
              "          const docLink = document.createElement('div');\n",
              "          docLink.innerHTML = docLinkHtml;\n",
              "          element.appendChild(docLink);\n",
              "        }\n",
              "      </script>\n",
              "    </div>\n",
              "  </div>\n",
              "  "
            ]
          },
          "metadata": {},
          "execution_count": 175
        }
      ]
    },
    {
      "cell_type": "code",
      "source": [
        "#Mostrar informações sobre o dataframe\n",
        "Covid_live.info()"
      ],
      "metadata": {
        "colab": {
          "base_uri": "https://localhost:8080/"
        },
        "id": "I-U_uC2vHxF0",
        "outputId": "8d9ea7d0-5454-4a24-b90d-aab001fe97b3"
      },
      "execution_count": 176,
      "outputs": [
        {
          "output_type": "stream",
          "name": "stdout",
          "text": [
            "<class 'pandas.core.frame.DataFrame'>\n",
            "Int64Index: 230 entries, 1 to 230\n",
            "Data columns (total 12 columns):\n",
            " #   Column             Non-Null Count  Dtype  \n",
            "---  ------             --------------  -----  \n",
            " 0   Country            230 non-null    object \n",
            " 1   Total_Cases        230 non-null    object \n",
            " 2   Total_Deaths       225 non-null    object \n",
            " 3   New_Deaths         3 non-null      float64\n",
            " 4   Total_Recovered    214 non-null    object \n",
            " 5   Active_Cases       215 non-null    object \n",
            " 6   Serious_Critical   147 non-null    object \n",
            " 7   Total_Cases_1Mpop  228 non-null    object \n",
            " 8   Deaths_1Mpop       223 non-null    object \n",
            " 9   Total_Tests        214 non-null    object \n",
            " 10  Tests_1Mpop        214 non-null    object \n",
            " 11  Population         228 non-null    object \n",
            "dtypes: float64(1), object(11)\n",
            "memory usage: 23.4+ KB\n"
          ]
        }
      ]
    },
    {
      "cell_type": "code",
      "source": [
        "# Ver quantos valores nulos do dataframe todo\n",
        "Covid_live.isnull().sum()"
      ],
      "metadata": {
        "colab": {
          "base_uri": "https://localhost:8080/"
        },
        "id": "ULcPX8CyHxBr",
        "outputId": "63fc5bc7-25b5-4d87-e5e3-b60eee073990"
      },
      "execution_count": 177,
      "outputs": [
        {
          "output_type": "execute_result",
          "data": {
            "text/plain": [
              "Country                0\n",
              "Total_Cases            0\n",
              "Total_Deaths           5\n",
              "New_Deaths           227\n",
              "Total_Recovered       16\n",
              "Active_Cases          15\n",
              "Serious_Critical      83\n",
              "Total_Cases_1Mpop      2\n",
              "Deaths_1Mpop           7\n",
              "Total_Tests           16\n",
              "Tests_1Mpop           16\n",
              "Population             2\n",
              "dtype: int64"
            ]
          },
          "metadata": {},
          "execution_count": 177
        }
      ]
    },
    {
      "cell_type": "code",
      "source": [
        "#Ver a dimensão do dataframe\n",
        "Covid_live.shape"
      ],
      "metadata": {
        "colab": {
          "base_uri": "https://localhost:8080/"
        },
        "id": "vS5SQIB_Hw-C",
        "outputId": "85c2feef-256c-4940-9c66-797c9d097464"
      },
      "execution_count": 178,
      "outputs": [
        {
          "output_type": "execute_result",
          "data": {
            "text/plain": [
              "(230, 12)"
            ]
          },
          "metadata": {},
          "execution_count": 178
        }
      ]
    },
    {
      "cell_type": "code",
      "source": [
        "#Mostrar quantos valores unicos existem na coluna\n",
        "Covid_live.Country.nunique()"
      ],
      "metadata": {
        "colab": {
          "base_uri": "https://localhost:8080/"
        },
        "id": "SZYsbschHwxz",
        "outputId": "91d00720-54bd-4531-ed9d-52b015082552"
      },
      "execution_count": 179,
      "outputs": [
        {
          "output_type": "execute_result",
          "data": {
            "text/plain": [
              "230"
            ]
          },
          "metadata": {},
          "execution_count": 179
        }
      ]
    },
    {
      "cell_type": "code",
      "source": [
        "#Mostrar quais são os valores unicos da coluna\n",
        "Covid_live.Country.unique()"
      ],
      "metadata": {
        "colab": {
          "base_uri": "https://localhost:8080/"
        },
        "id": "EDRbKUHsP3qJ",
        "outputId": "4b8834c5-6818-47ef-a5bc-12dcc166d576"
      },
      "execution_count": 180,
      "outputs": [
        {
          "output_type": "execute_result",
          "data": {
            "text/plain": [
              "array(['USA', 'India', 'France', 'Brazil', 'Germany', 'S. Korea', 'UK',\n",
              "       'Italy', 'Japan', 'Russia', 'Turkey', 'Spain', 'Vietnam',\n",
              "       'Australia', 'Argentina', 'Netherlands', 'Iran', 'Mexico',\n",
              "       'Indonesia', 'Taiwan', 'Colombia', 'Poland', 'Portugal', 'Ukraine',\n",
              "       'Austria', 'Greece', 'Malaysia', 'DPRK', 'Thailand', 'Israel',\n",
              "       'Chile', 'Belgium', 'Canada', 'Peru', 'Czechia', 'Switzerland',\n",
              "       'South Africa', 'Philippines', 'Romania', 'Denmark', 'Sweden',\n",
              "       'Iraq', 'Serbia', 'Hungary', 'Bangladesh', 'Singapore', 'Slovakia',\n",
              "       'Georgia', 'New Zealand', 'Hong Kong', 'Jordan', 'Ireland',\n",
              "       'Pakistan', 'Norway', 'Kazakhstan', 'Finland', 'Morocco',\n",
              "       'Bulgaria', 'Lithuania', 'Croatia', 'Lebanon', 'Slovenia',\n",
              "       'Tunisia', 'Guatemala', 'Cuba', 'Bolivia', 'Costa Rica', 'UAE',\n",
              "       'Ecuador', 'Nepal', 'Belarus', 'Panama', 'Uruguay', 'Mongolia',\n",
              "       'Latvia', 'Azerbaijan', 'Saudi Arabia', 'Paraguay', 'Bahrain',\n",
              "       'Sri Lanka', 'Kuwait', 'Dominican Republic', 'Myanmar',\n",
              "       'Palestine', 'Estonia', 'Moldova', 'Cyprus', 'Venezuela', 'Egypt',\n",
              "       'Libya', 'Ethiopia', 'Réunion', 'Honduras', 'Qatar', 'Armenia',\n",
              "       'Bosnia and Herzegovina', 'Oman', 'North Macedonia', 'Kenya',\n",
              "       'Zambia', 'Albania', 'Botswana', 'Luxembourg', 'Montenegro',\n",
              "       'Algeria', 'Nigeria', 'Zimbabwe', 'China', 'Uzbekistan',\n",
              "       'Mozambique', 'Brunei', 'Martinique', 'Laos', 'Kyrgyzstan',\n",
              "       'Iceland', 'El Salvador', 'Afghanistan', 'Guadeloupe', 'Maldives',\n",
              "       'Trinidad and Tobago', 'Uganda', 'Namibia', 'Ghana', 'Jamaica',\n",
              "       'Cambodia', 'Rwanda', 'Cameroon', 'Malta', 'Angola', 'Barbados',\n",
              "       'French Guiana', 'DRC', 'Channel Islands', 'Senegal', 'Malawi',\n",
              "       'Ivory Coast', 'Suriname', 'French Polynesia', 'New Caledonia',\n",
              "       'Eswatini', 'Guyana', 'Belize', 'Fiji', 'Madagascar', 'Sudan',\n",
              "       'Mauritania', 'Cabo Verde', 'Bhutan', 'Syria', 'Burundi', 'Gabon',\n",
              "       'Seychelles', 'Andorra', 'Curaçao', 'Papua New Guinea', 'Aruba',\n",
              "       'Mauritius', 'Mayotte', 'Tanzania', 'Togo', 'Isle of Man',\n",
              "       'Guinea', 'Bahamas', 'Faeroe Islands', 'Lesotho', 'Haiti', 'Mali',\n",
              "       'Cayman Islands', 'Saint Lucia', 'Benin', 'Somalia', 'Congo',\n",
              "       'Timor-Leste', 'Burkina Faso', 'Solomon Islands', 'San Marino',\n",
              "       'Gibraltar', 'Liechtenstein', 'Grenada', 'Nicaragua', 'Bermuda',\n",
              "       'South Sudan', 'Tajikistan', 'Equatorial Guinea', 'Tonga', 'Samoa',\n",
              "       'Dominica', 'Djibouti', 'Marshall Islands', 'CAR', 'Monaco',\n",
              "       'Gambia', 'Saint Martin', 'Greenland', 'Yemen', 'Vanuatu',\n",
              "       'Caribbean Netherlands', 'Sint Maarten', 'Eritrea', 'Niger',\n",
              "       'Micronesia', 'Antigua and Barbuda', 'Guinea-Bissau', 'Comoros',\n",
              "       'Liberia', 'Sierra Leone', 'Chad', 'British Virgin Islands',\n",
              "       'St. Vincent Grenadines', 'Saint Kitts and Nevis', 'Cook Islands',\n",
              "       'Turks and Caicos', 'Sao Tome and Principe', 'Palau', 'St. Barth',\n",
              "       'Nauru', 'Anguilla', 'Kiribati', 'Saint Pierre Miquelon',\n",
              "       'Falkland Islands', 'Montserrat', 'Saint Helena', 'Macao',\n",
              "       'Wallis and Futuna', 'Diamond Princess', 'Niue', 'Vatican City',\n",
              "       'Tuvalu', 'Western Sahara', 'MS Zaandam'], dtype=object)"
            ]
          },
          "metadata": {},
          "execution_count": 180
        }
      ]
    },
    {
      "cell_type": "code",
      "source": [
        "#Mostrar a frequencia que cada valor unico de uma coluna aparece\n",
        "Covid_live.Country.value_counts()"
      ],
      "metadata": {
        "colab": {
          "base_uri": "https://localhost:8080/"
        },
        "id": "o3lmLBclQAem",
        "outputId": "00194dfa-e498-4b8f-dc25-6458d4a4fddb"
      },
      "execution_count": 181,
      "outputs": [
        {
          "output_type": "execute_result",
          "data": {
            "text/plain": [
              "USA                   1\n",
              "Sudan                 1\n",
              "Cabo Verde            1\n",
              "Bhutan                1\n",
              "Syria                 1\n",
              "                     ..\n",
              "Kuwait                1\n",
              "Dominican Republic    1\n",
              "Myanmar               1\n",
              "Palestine             1\n",
              "MS Zaandam            1\n",
              "Name: Country, Length: 230, dtype: int64"
            ]
          },
          "metadata": {},
          "execution_count": 181
        }
      ]
    },
    {
      "cell_type": "markdown",
      "source": [
        "### Valores Nulos"
      ],
      "metadata": {
        "id": "g_rGbet9Qz84"
      }
    },
    {
      "cell_type": "markdown",
      "source": [
        "Qual coluna tem mais valores nulos?"
      ],
      "metadata": {
        "id": "QWO5l7NSTaKS"
      }
    },
    {
      "cell_type": "code",
      "source": [
        "#For para saber qual coluna tem mais valores nulos\n",
        "for i in colunas:\n",
        "  if Covid_live[i].isnull().sum() > maior_valor:\n",
        "    maior_valor = Covid_live[i].isnull().sum()\n",
        "    coluna_maior_valor = i\n",
        "\n",
        "print(f'A coluna que tem mais valores nulos é a coluna \\\"{coluna_maior_valor}\\\" com {maior_valor} valores')"
      ],
      "metadata": {
        "colab": {
          "base_uri": "https://localhost:8080/"
        },
        "id": "7ci9sqA7Qhwi",
        "outputId": "e1d6559b-a27c-4c29-b60b-8ae49622ef97"
      },
      "execution_count": 182,
      "outputs": [
        {
          "output_type": "stream",
          "name": "stdout",
          "text": [
            "A coluna que tem mais valores nulos é a coluna \"New_Deaths\" com 227 valores\n"
          ]
        }
      ]
    },
    {
      "cell_type": "markdown",
      "source": [
        "Qual coluna tem menos valores nulos? diferente de 0"
      ],
      "metadata": {
        "id": "Oj2g1EriU7qd"
      }
    },
    {
      "cell_type": "code",
      "source": [
        "#For para saber qual coluna tem menos valores nulos diferente de 0\n",
        "count = 1\n",
        "for i in colunas:\n",
        "  if Covid_live[i].isnull().sum() != 0:\n",
        "    if count == 1:\n",
        "      menor_valor = Covid_live[i].isnull().sum()\n",
        "      coluna_menor_valor = i\n",
        "      count = 2\n",
        "    elif Covid_live[i].isnull().sum() < menor_valor:\n",
        "      menor_valor = Covid_live[i].isnull().sum()\n",
        "      coluna_menor_valor = i\n",
        "\n",
        "print(f'A coluna que tem menos valores nulos (diferente de 0) é a coluna \\\"{coluna_menor_valor}\\\" com {menor_valor} valores')"
      ],
      "metadata": {
        "colab": {
          "base_uri": "https://localhost:8080/"
        },
        "id": "wBCKtIksQhlT",
        "outputId": "6d66e58f-aad5-4e89-a142-be783a0501e7"
      },
      "execution_count": 183,
      "outputs": [
        {
          "output_type": "stream",
          "name": "stdout",
          "text": [
            "A coluna que tem menos valores nulos (diferente de 0) é a coluna \"Total_Cases_1Mpop\" com 2 valores\n"
          ]
        }
      ]
    },
    {
      "cell_type": "markdown",
      "source": [
        "Quais colunas tem valores nulos?"
      ],
      "metadata": {
        "id": "EOw2BI5za3gb"
      }
    },
    {
      "cell_type": "code",
      "source": [
        "print('Colunas que possuem valores nulos:')\n",
        "colunas_nulas = []\n",
        "for i in colunas:\n",
        "  if Covid_live[i].isnull().sum() != 0:\n",
        "      print(i)\n",
        "      colunas_nulas.append(i)"
      ],
      "metadata": {
        "colab": {
          "base_uri": "https://localhost:8080/"
        },
        "id": "Cdyb8kJNa75O",
        "outputId": "d13df55e-b5e3-4d69-d78f-36128352d52b"
      },
      "execution_count": 184,
      "outputs": [
        {
          "output_type": "stream",
          "name": "stdout",
          "text": [
            "Colunas que possuem valores nulos:\n",
            "Total_Deaths\n",
            "New_Deaths\n",
            "Total_Recovered\n",
            "Active_Cases\n",
            "Serious_Critical\n",
            "Total_Cases_1Mpop\n",
            "Deaths_1Mpop\n",
            "Total_Tests\n",
            "Tests_1Mpop\n",
            "Population\n"
          ]
        }
      ]
    },
    {
      "cell_type": "markdown",
      "source": [
        "Crie um dataframe sobre Covid sem dados nulos "
      ],
      "metadata": {
        "id": "JEtRB-zfaKIV"
      }
    },
    {
      "cell_type": "code",
      "source": [
        "#Primeiro é preciso analisar qual é a solução mais viavél para cada coluna"
      ],
      "metadata": {
        "id": "jB7dEL8jQhRs"
      },
      "execution_count": 185,
      "outputs": []
    },
    {
      "cell_type": "code",
      "source": [
        "#Mostrar apenas as colunas que contem valores nulos \n",
        "Covid_live.loc[:, colunas_nulas].head(10)"
      ],
      "metadata": {
        "colab": {
          "base_uri": "https://localhost:8080/",
          "height": 394
        },
        "id": "QtJEirqhcibd",
        "outputId": "658b24fe-5096-4f1b-f52d-3140381f21f6"
      },
      "execution_count": 186,
      "outputs": [
        {
          "output_type": "execute_result",
          "data": {
            "text/plain": [
              "   Total_Deaths  New_Deaths Total_Recovered Active_Cases Serious_Critical  \\\n",
              "Id                                                                          \n",
              "1     1,084,282         NaN      94,962,112    2,120,510            2,970   \n",
              "2       528,629         NaN      44,019,095       39,583              698   \n",
              "3       155,078         NaN      34,527,115      660,757              869   \n",
              "4       686,027         NaN      33,838,636      182,094            8,318   \n",
              "5       149,948         NaN      32,315,200      847,225            1,406   \n",
              "6        28,406        42.0      24,013,461      727,234              352   \n",
              "7       189,919         NaN      23,347,871       84,162              146   \n",
              "8       177,054         NaN      21,779,604      476,145              141   \n",
              "9        44,678         NaN      20,380,089      804,449              204   \n",
              "10      387,163         NaN      19,979,763      581,544            2,300   \n",
              "\n",
              "   Total_Cases_1Mpop Deaths_1Mpop    Total_Tests Tests_1Mpop     Population  \n",
              "Id                                                                           \n",
              "1            293,206        3,239  1,118,158,870   3,339,729    334,805,269  \n",
              "2             31,698          376    894,416,853     635,857  1,406,631,776  \n",
              "3            538,892        2,365    271,490,188   4,139,547     65,584,518  \n",
              "4            161,162        3,186     63,776,166     296,146    215,353,593  \n",
              "5            397,126        1,788    122,332,384   1,458,359     83,883,596  \n",
              "6            482,547          553     15,804,065     307,892     51,329,899  \n",
              "7            344,857        2,773    522,526,476   7,628,357     68,497,907  \n",
              "8            372,250        2,938    246,636,495   4,092,684     60,262,770  \n",
              "9            169,043          356     76,201,407     606,772    125,584,838  \n",
              "10           143,674        2,655    273,400,000   1,875,095    145,805,947  "
            ],
            "text/html": [
              "\n",
              "  <div id=\"df-447dbfa8-3fdb-4e6a-a4c1-5931d00ff00c\">\n",
              "    <div class=\"colab-df-container\">\n",
              "      <div>\n",
              "<style scoped>\n",
              "    .dataframe tbody tr th:only-of-type {\n",
              "        vertical-align: middle;\n",
              "    }\n",
              "\n",
              "    .dataframe tbody tr th {\n",
              "        vertical-align: top;\n",
              "    }\n",
              "\n",
              "    .dataframe thead th {\n",
              "        text-align: right;\n",
              "    }\n",
              "</style>\n",
              "<table border=\"1\" class=\"dataframe\">\n",
              "  <thead>\n",
              "    <tr style=\"text-align: right;\">\n",
              "      <th></th>\n",
              "      <th>Total_Deaths</th>\n",
              "      <th>New_Deaths</th>\n",
              "      <th>Total_Recovered</th>\n",
              "      <th>Active_Cases</th>\n",
              "      <th>Serious_Critical</th>\n",
              "      <th>Total_Cases_1Mpop</th>\n",
              "      <th>Deaths_1Mpop</th>\n",
              "      <th>Total_Tests</th>\n",
              "      <th>Tests_1Mpop</th>\n",
              "      <th>Population</th>\n",
              "    </tr>\n",
              "    <tr>\n",
              "      <th>Id</th>\n",
              "      <th></th>\n",
              "      <th></th>\n",
              "      <th></th>\n",
              "      <th></th>\n",
              "      <th></th>\n",
              "      <th></th>\n",
              "      <th></th>\n",
              "      <th></th>\n",
              "      <th></th>\n",
              "      <th></th>\n",
              "    </tr>\n",
              "  </thead>\n",
              "  <tbody>\n",
              "    <tr>\n",
              "      <th>1</th>\n",
              "      <td>1,084,282</td>\n",
              "      <td>NaN</td>\n",
              "      <td>94,962,112</td>\n",
              "      <td>2,120,510</td>\n",
              "      <td>2,970</td>\n",
              "      <td>293,206</td>\n",
              "      <td>3,239</td>\n",
              "      <td>1,118,158,870</td>\n",
              "      <td>3,339,729</td>\n",
              "      <td>334,805,269</td>\n",
              "    </tr>\n",
              "    <tr>\n",
              "      <th>2</th>\n",
              "      <td>528,629</td>\n",
              "      <td>NaN</td>\n",
              "      <td>44,019,095</td>\n",
              "      <td>39,583</td>\n",
              "      <td>698</td>\n",
              "      <td>31,698</td>\n",
              "      <td>376</td>\n",
              "      <td>894,416,853</td>\n",
              "      <td>635,857</td>\n",
              "      <td>1,406,631,776</td>\n",
              "    </tr>\n",
              "    <tr>\n",
              "      <th>3</th>\n",
              "      <td>155,078</td>\n",
              "      <td>NaN</td>\n",
              "      <td>34,527,115</td>\n",
              "      <td>660,757</td>\n",
              "      <td>869</td>\n",
              "      <td>538,892</td>\n",
              "      <td>2,365</td>\n",
              "      <td>271,490,188</td>\n",
              "      <td>4,139,547</td>\n",
              "      <td>65,584,518</td>\n",
              "    </tr>\n",
              "    <tr>\n",
              "      <th>4</th>\n",
              "      <td>686,027</td>\n",
              "      <td>NaN</td>\n",
              "      <td>33,838,636</td>\n",
              "      <td>182,094</td>\n",
              "      <td>8,318</td>\n",
              "      <td>161,162</td>\n",
              "      <td>3,186</td>\n",
              "      <td>63,776,166</td>\n",
              "      <td>296,146</td>\n",
              "      <td>215,353,593</td>\n",
              "    </tr>\n",
              "    <tr>\n",
              "      <th>5</th>\n",
              "      <td>149,948</td>\n",
              "      <td>NaN</td>\n",
              "      <td>32,315,200</td>\n",
              "      <td>847,225</td>\n",
              "      <td>1,406</td>\n",
              "      <td>397,126</td>\n",
              "      <td>1,788</td>\n",
              "      <td>122,332,384</td>\n",
              "      <td>1,458,359</td>\n",
              "      <td>83,883,596</td>\n",
              "    </tr>\n",
              "    <tr>\n",
              "      <th>6</th>\n",
              "      <td>28,406</td>\n",
              "      <td>42.0</td>\n",
              "      <td>24,013,461</td>\n",
              "      <td>727,234</td>\n",
              "      <td>352</td>\n",
              "      <td>482,547</td>\n",
              "      <td>553</td>\n",
              "      <td>15,804,065</td>\n",
              "      <td>307,892</td>\n",
              "      <td>51,329,899</td>\n",
              "    </tr>\n",
              "    <tr>\n",
              "      <th>7</th>\n",
              "      <td>189,919</td>\n",
              "      <td>NaN</td>\n",
              "      <td>23,347,871</td>\n",
              "      <td>84,162</td>\n",
              "      <td>146</td>\n",
              "      <td>344,857</td>\n",
              "      <td>2,773</td>\n",
              "      <td>522,526,476</td>\n",
              "      <td>7,628,357</td>\n",
              "      <td>68,497,907</td>\n",
              "    </tr>\n",
              "    <tr>\n",
              "      <th>8</th>\n",
              "      <td>177,054</td>\n",
              "      <td>NaN</td>\n",
              "      <td>21,779,604</td>\n",
              "      <td>476,145</td>\n",
              "      <td>141</td>\n",
              "      <td>372,250</td>\n",
              "      <td>2,938</td>\n",
              "      <td>246,636,495</td>\n",
              "      <td>4,092,684</td>\n",
              "      <td>60,262,770</td>\n",
              "    </tr>\n",
              "    <tr>\n",
              "      <th>9</th>\n",
              "      <td>44,678</td>\n",
              "      <td>NaN</td>\n",
              "      <td>20,380,089</td>\n",
              "      <td>804,449</td>\n",
              "      <td>204</td>\n",
              "      <td>169,043</td>\n",
              "      <td>356</td>\n",
              "      <td>76,201,407</td>\n",
              "      <td>606,772</td>\n",
              "      <td>125,584,838</td>\n",
              "    </tr>\n",
              "    <tr>\n",
              "      <th>10</th>\n",
              "      <td>387,163</td>\n",
              "      <td>NaN</td>\n",
              "      <td>19,979,763</td>\n",
              "      <td>581,544</td>\n",
              "      <td>2,300</td>\n",
              "      <td>143,674</td>\n",
              "      <td>2,655</td>\n",
              "      <td>273,400,000</td>\n",
              "      <td>1,875,095</td>\n",
              "      <td>145,805,947</td>\n",
              "    </tr>\n",
              "  </tbody>\n",
              "</table>\n",
              "</div>\n",
              "      <button class=\"colab-df-convert\" onclick=\"convertToInteractive('df-447dbfa8-3fdb-4e6a-a4c1-5931d00ff00c')\"\n",
              "              title=\"Convert this dataframe to an interactive table.\"\n",
              "              style=\"display:none;\">\n",
              "        \n",
              "  <svg xmlns=\"http://www.w3.org/2000/svg\" height=\"24px\"viewBox=\"0 0 24 24\"\n",
              "       width=\"24px\">\n",
              "    <path d=\"M0 0h24v24H0V0z\" fill=\"none\"/>\n",
              "    <path d=\"M18.56 5.44l.94 2.06.94-2.06 2.06-.94-2.06-.94-.94-2.06-.94 2.06-2.06.94zm-11 1L8.5 8.5l.94-2.06 2.06-.94-2.06-.94L8.5 2.5l-.94 2.06-2.06.94zm10 10l.94 2.06.94-2.06 2.06-.94-2.06-.94-.94-2.06-.94 2.06-2.06.94z\"/><path d=\"M17.41 7.96l-1.37-1.37c-.4-.4-.92-.59-1.43-.59-.52 0-1.04.2-1.43.59L10.3 9.45l-7.72 7.72c-.78.78-.78 2.05 0 2.83L4 21.41c.39.39.9.59 1.41.59.51 0 1.02-.2 1.41-.59l7.78-7.78 2.81-2.81c.8-.78.8-2.07 0-2.86zM5.41 20L4 18.59l7.72-7.72 1.47 1.35L5.41 20z\"/>\n",
              "  </svg>\n",
              "      </button>\n",
              "      \n",
              "  <style>\n",
              "    .colab-df-container {\n",
              "      display:flex;\n",
              "      flex-wrap:wrap;\n",
              "      gap: 12px;\n",
              "    }\n",
              "\n",
              "    .colab-df-convert {\n",
              "      background-color: #E8F0FE;\n",
              "      border: none;\n",
              "      border-radius: 50%;\n",
              "      cursor: pointer;\n",
              "      display: none;\n",
              "      fill: #1967D2;\n",
              "      height: 32px;\n",
              "      padding: 0 0 0 0;\n",
              "      width: 32px;\n",
              "    }\n",
              "\n",
              "    .colab-df-convert:hover {\n",
              "      background-color: #E2EBFA;\n",
              "      box-shadow: 0px 1px 2px rgba(60, 64, 67, 0.3), 0px 1px 3px 1px rgba(60, 64, 67, 0.15);\n",
              "      fill: #174EA6;\n",
              "    }\n",
              "\n",
              "    [theme=dark] .colab-df-convert {\n",
              "      background-color: #3B4455;\n",
              "      fill: #D2E3FC;\n",
              "    }\n",
              "\n",
              "    [theme=dark] .colab-df-convert:hover {\n",
              "      background-color: #434B5C;\n",
              "      box-shadow: 0px 1px 3px 1px rgba(0, 0, 0, 0.15);\n",
              "      filter: drop-shadow(0px 1px 2px rgba(0, 0, 0, 0.3));\n",
              "      fill: #FFFFFF;\n",
              "    }\n",
              "  </style>\n",
              "\n",
              "      <script>\n",
              "        const buttonEl =\n",
              "          document.querySelector('#df-447dbfa8-3fdb-4e6a-a4c1-5931d00ff00c button.colab-df-convert');\n",
              "        buttonEl.style.display =\n",
              "          google.colab.kernel.accessAllowed ? 'block' : 'none';\n",
              "\n",
              "        async function convertToInteractive(key) {\n",
              "          const element = document.querySelector('#df-447dbfa8-3fdb-4e6a-a4c1-5931d00ff00c');\n",
              "          const dataTable =\n",
              "            await google.colab.kernel.invokeFunction('convertToInteractive',\n",
              "                                                     [key], {});\n",
              "          if (!dataTable) return;\n",
              "\n",
              "          const docLinkHtml = 'Like what you see? Visit the ' +\n",
              "            '<a target=\"_blank\" href=https://colab.research.google.com/notebooks/data_table.ipynb>data table notebook</a>'\n",
              "            + ' to learn more about interactive tables.';\n",
              "          element.innerHTML = '';\n",
              "          dataTable['output_type'] = 'display_data';\n",
              "          await google.colab.output.renderOutput(dataTable, element);\n",
              "          const docLink = document.createElement('div');\n",
              "          docLink.innerHTML = docLinkHtml;\n",
              "          element.appendChild(docLink);\n",
              "        }\n",
              "      </script>\n",
              "    </div>\n",
              "  </div>\n",
              "  "
            ]
          },
          "metadata": {},
          "execution_count": 186
        }
      ]
    },
    {
      "cell_type": "code",
      "source": [],
      "metadata": {
        "id": "0Kq8kUdVcjRY"
      },
      "execution_count": null,
      "outputs": []
    }
  ]
}
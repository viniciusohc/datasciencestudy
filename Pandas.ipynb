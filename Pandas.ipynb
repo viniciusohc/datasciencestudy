{
  "nbformat": 4,
  "nbformat_minor": 0,
  "metadata": {
    "colab": {
      "provenance": [],
      "authorship_tag": "ABX9TyODSqy6a38Lz3Lg8cIIVYvO",
      "include_colab_link": true
    },
    "kernelspec": {
      "name": "python3",
      "display_name": "Python 3"
    },
    "language_info": {
      "name": "python"
    }
  },
  "cells": [
    {
      "cell_type": "markdown",
      "metadata": {
        "id": "view-in-github",
        "colab_type": "text"
      },
      "source": [
        "<a href=\"https://colab.research.google.com/github/viniciusohc/datasciencestudy/blob/main/Pandas.ipynb\" target=\"_parent\"><img src=\"https://colab.research.google.com/assets/colab-badge.svg\" alt=\"Open In Colab\"/></a>"
      ]
    },
    {
      "cell_type": "code",
      "execution_count": 265,
      "metadata": {
        "id": "Rijt-TrhG-8Z"
      },
      "outputs": [],
      "source": [
        "import pandas as pd"
      ]
    },
    {
      "cell_type": "code",
      "source": [
        "Covid_live = pd.read_csv('Covid Live.csv')"
      ],
      "metadata": {
        "id": "5fygdoGkHZQY"
      },
      "execution_count": 266,
      "outputs": []
    },
    {
      "cell_type": "code",
      "source": [
        "Covid_live.head(3)"
      ],
      "metadata": {
        "colab": {
          "base_uri": "https://localhost:8080/",
          "height": 242
        },
        "id": "6jBW-FD5Line",
        "outputId": "ecdd6e02-f73f-4c4c-f16d-03e29c724094"
      },
      "execution_count": 267,
      "outputs": [
        {
          "output_type": "execute_result",
          "data": {
            "text/plain": [
              "   # Country,\\nOther Total\\nCases Total\\nDeaths  New\\nDeaths Total\\nRecovered  \\\n",
              "0  1             USA   98,166,904     1,084,282          NaN       94,962,112   \n",
              "1  2           India   44,587,307       528,629          NaN       44,019,095   \n",
              "2  3          France   35,342,950       155,078          NaN       34,527,115   \n",
              "\n",
              "  Active\\nCases Serious,\\nCritical Tot Cases/\\n1M pop Deaths/\\n1M pop  \\\n",
              "0     2,120,510              2,970            293,206           3,239   \n",
              "1        39,583                698             31,698             376   \n",
              "2       660,757                869            538,892           2,365   \n",
              "\n",
              "    Total\\nTests Tests/\\n1M pop     Population  \n",
              "0  1,118,158,870      3,339,729    334,805,269  \n",
              "1    894,416,853        635,857  1,406,631,776  \n",
              "2    271,490,188      4,139,547     65,584,518  "
            ],
            "text/html": [
              "\n",
              "  <div id=\"df-d80a1f03-fcbc-446d-b8d1-bfb3eb482891\">\n",
              "    <div class=\"colab-df-container\">\n",
              "      <div>\n",
              "<style scoped>\n",
              "    .dataframe tbody tr th:only-of-type {\n",
              "        vertical-align: middle;\n",
              "    }\n",
              "\n",
              "    .dataframe tbody tr th {\n",
              "        vertical-align: top;\n",
              "    }\n",
              "\n",
              "    .dataframe thead th {\n",
              "        text-align: right;\n",
              "    }\n",
              "</style>\n",
              "<table border=\"1\" class=\"dataframe\">\n",
              "  <thead>\n",
              "    <tr style=\"text-align: right;\">\n",
              "      <th></th>\n",
              "      <th>#</th>\n",
              "      <th>Country,\\nOther</th>\n",
              "      <th>Total\\nCases</th>\n",
              "      <th>Total\\nDeaths</th>\n",
              "      <th>New\\nDeaths</th>\n",
              "      <th>Total\\nRecovered</th>\n",
              "      <th>Active\\nCases</th>\n",
              "      <th>Serious,\\nCritical</th>\n",
              "      <th>Tot Cases/\\n1M pop</th>\n",
              "      <th>Deaths/\\n1M pop</th>\n",
              "      <th>Total\\nTests</th>\n",
              "      <th>Tests/\\n1M pop</th>\n",
              "      <th>Population</th>\n",
              "    </tr>\n",
              "  </thead>\n",
              "  <tbody>\n",
              "    <tr>\n",
              "      <th>0</th>\n",
              "      <td>1</td>\n",
              "      <td>USA</td>\n",
              "      <td>98,166,904</td>\n",
              "      <td>1,084,282</td>\n",
              "      <td>NaN</td>\n",
              "      <td>94,962,112</td>\n",
              "      <td>2,120,510</td>\n",
              "      <td>2,970</td>\n",
              "      <td>293,206</td>\n",
              "      <td>3,239</td>\n",
              "      <td>1,118,158,870</td>\n",
              "      <td>3,339,729</td>\n",
              "      <td>334,805,269</td>\n",
              "    </tr>\n",
              "    <tr>\n",
              "      <th>1</th>\n",
              "      <td>2</td>\n",
              "      <td>India</td>\n",
              "      <td>44,587,307</td>\n",
              "      <td>528,629</td>\n",
              "      <td>NaN</td>\n",
              "      <td>44,019,095</td>\n",
              "      <td>39,583</td>\n",
              "      <td>698</td>\n",
              "      <td>31,698</td>\n",
              "      <td>376</td>\n",
              "      <td>894,416,853</td>\n",
              "      <td>635,857</td>\n",
              "      <td>1,406,631,776</td>\n",
              "    </tr>\n",
              "    <tr>\n",
              "      <th>2</th>\n",
              "      <td>3</td>\n",
              "      <td>France</td>\n",
              "      <td>35,342,950</td>\n",
              "      <td>155,078</td>\n",
              "      <td>NaN</td>\n",
              "      <td>34,527,115</td>\n",
              "      <td>660,757</td>\n",
              "      <td>869</td>\n",
              "      <td>538,892</td>\n",
              "      <td>2,365</td>\n",
              "      <td>271,490,188</td>\n",
              "      <td>4,139,547</td>\n",
              "      <td>65,584,518</td>\n",
              "    </tr>\n",
              "  </tbody>\n",
              "</table>\n",
              "</div>\n",
              "      <button class=\"colab-df-convert\" onclick=\"convertToInteractive('df-d80a1f03-fcbc-446d-b8d1-bfb3eb482891')\"\n",
              "              title=\"Convert this dataframe to an interactive table.\"\n",
              "              style=\"display:none;\">\n",
              "        \n",
              "  <svg xmlns=\"http://www.w3.org/2000/svg\" height=\"24px\"viewBox=\"0 0 24 24\"\n",
              "       width=\"24px\">\n",
              "    <path d=\"M0 0h24v24H0V0z\" fill=\"none\"/>\n",
              "    <path d=\"M18.56 5.44l.94 2.06.94-2.06 2.06-.94-2.06-.94-.94-2.06-.94 2.06-2.06.94zm-11 1L8.5 8.5l.94-2.06 2.06-.94-2.06-.94L8.5 2.5l-.94 2.06-2.06.94zm10 10l.94 2.06.94-2.06 2.06-.94-2.06-.94-.94-2.06-.94 2.06-2.06.94z\"/><path d=\"M17.41 7.96l-1.37-1.37c-.4-.4-.92-.59-1.43-.59-.52 0-1.04.2-1.43.59L10.3 9.45l-7.72 7.72c-.78.78-.78 2.05 0 2.83L4 21.41c.39.39.9.59 1.41.59.51 0 1.02-.2 1.41-.59l7.78-7.78 2.81-2.81c.8-.78.8-2.07 0-2.86zM5.41 20L4 18.59l7.72-7.72 1.47 1.35L5.41 20z\"/>\n",
              "  </svg>\n",
              "      </button>\n",
              "      \n",
              "  <style>\n",
              "    .colab-df-container {\n",
              "      display:flex;\n",
              "      flex-wrap:wrap;\n",
              "      gap: 12px;\n",
              "    }\n",
              "\n",
              "    .colab-df-convert {\n",
              "      background-color: #E8F0FE;\n",
              "      border: none;\n",
              "      border-radius: 50%;\n",
              "      cursor: pointer;\n",
              "      display: none;\n",
              "      fill: #1967D2;\n",
              "      height: 32px;\n",
              "      padding: 0 0 0 0;\n",
              "      width: 32px;\n",
              "    }\n",
              "\n",
              "    .colab-df-convert:hover {\n",
              "      background-color: #E2EBFA;\n",
              "      box-shadow: 0px 1px 2px rgba(60, 64, 67, 0.3), 0px 1px 3px 1px rgba(60, 64, 67, 0.15);\n",
              "      fill: #174EA6;\n",
              "    }\n",
              "\n",
              "    [theme=dark] .colab-df-convert {\n",
              "      background-color: #3B4455;\n",
              "      fill: #D2E3FC;\n",
              "    }\n",
              "\n",
              "    [theme=dark] .colab-df-convert:hover {\n",
              "      background-color: #434B5C;\n",
              "      box-shadow: 0px 1px 3px 1px rgba(0, 0, 0, 0.15);\n",
              "      filter: drop-shadow(0px 1px 2px rgba(0, 0, 0, 0.3));\n",
              "      fill: #FFFFFF;\n",
              "    }\n",
              "  </style>\n",
              "\n",
              "      <script>\n",
              "        const buttonEl =\n",
              "          document.querySelector('#df-d80a1f03-fcbc-446d-b8d1-bfb3eb482891 button.colab-df-convert');\n",
              "        buttonEl.style.display =\n",
              "          google.colab.kernel.accessAllowed ? 'block' : 'none';\n",
              "\n",
              "        async function convertToInteractive(key) {\n",
              "          const element = document.querySelector('#df-d80a1f03-fcbc-446d-b8d1-bfb3eb482891');\n",
              "          const dataTable =\n",
              "            await google.colab.kernel.invokeFunction('convertToInteractive',\n",
              "                                                     [key], {});\n",
              "          if (!dataTable) return;\n",
              "\n",
              "          const docLinkHtml = 'Like what you see? Visit the ' +\n",
              "            '<a target=\"_blank\" href=https://colab.research.google.com/notebooks/data_table.ipynb>data table notebook</a>'\n",
              "            + ' to learn more about interactive tables.';\n",
              "          element.innerHTML = '';\n",
              "          dataTable['output_type'] = 'display_data';\n",
              "          await google.colab.output.renderOutput(dataTable, element);\n",
              "          const docLink = document.createElement('div');\n",
              "          docLink.innerHTML = docLinkHtml;\n",
              "          element.appendChild(docLink);\n",
              "        }\n",
              "      </script>\n",
              "    </div>\n",
              "  </div>\n",
              "  "
            ]
          },
          "metadata": {},
          "execution_count": 267
        }
      ]
    },
    {
      "cell_type": "markdown",
      "source": [
        "### Renomear as colunas para ficar melhor para analisar os dados e melhor o index"
      ],
      "metadata": {
        "id": "YKz8bO8YL1tC"
      }
    },
    {
      "cell_type": "code",
      "source": [
        "colunas = Covid_live.columns\n",
        "colunas"
      ],
      "metadata": {
        "colab": {
          "base_uri": "https://localhost:8080/"
        },
        "id": "KE24XW5UJJ4Y",
        "outputId": "f6c8d072-9e12-4aca-8921-d4ae3a8e402c"
      },
      "execution_count": 268,
      "outputs": [
        {
          "output_type": "execute_result",
          "data": {
            "text/plain": [
              "Index(['#', 'Country,\\nOther', 'Total\\nCases', 'Total\\nDeaths', 'New\\nDeaths',\n",
              "       'Total\\nRecovered', 'Active\\nCases', 'Serious,\\nCritical',\n",
              "       'Tot Cases/\\n1M pop', 'Deaths/\\n1M pop', 'Total\\nTests',\n",
              "       'Tests/\\n1M pop', 'Population'],\n",
              "      dtype='object')"
            ]
          },
          "metadata": {},
          "execution_count": 268
        }
      ]
    },
    {
      "cell_type": "code",
      "source": [
        "Covid_live.rename(columns = {\"#\":\"Id\",\n",
        "                             \"Country,\\nOther\":\"Country\",\n",
        "                             \"Total\\nCases\":\"Total_Cases\",\n",
        "                             \"Total\\nDeaths\":\"Total_Deaths\",\n",
        "                             \"New\\nDeaths\":\"New_Deaths\",\n",
        "                             \"Total\\nRecovered\":\"Total_Recovered\",\n",
        "                             \"Active\\nCases\":\"Active_Cases\",\n",
        "                             \"Serious,\\nCritical\":\"Serious_Critical\",\n",
        "                             \"Tot Cases/\\n1M pop\":\"Total_Cases_1Mpop\",\n",
        "                             \"Deaths/\\n1M pop\":\"Deaths_1Mpop\",\n",
        "                             \"Total\\nTests\":\"Total_Tests\",\n",
        "                             \"Tests/\\n1M pop\":\"Tests_1Mpop\"}, inplace=True)"
      ],
      "metadata": {
        "id": "Y-j3nPhsIxVm"
      },
      "execution_count": 269,
      "outputs": []
    },
    {
      "cell_type": "code",
      "source": [
        "Covid_live = Covid_live.set_index('Id')"
      ],
      "metadata": {
        "id": "pWUrAXWkeah-"
      },
      "execution_count": 270,
      "outputs": []
    },
    {
      "cell_type": "code",
      "source": [
        "colunas = Covid_live.columns\n",
        "colunas"
      ],
      "metadata": {
        "colab": {
          "base_uri": "https://localhost:8080/"
        },
        "id": "aO3IbfNmfq_7",
        "outputId": "186d4eca-b7e6-4c5e-8e8e-b7ab43bea4be"
      },
      "execution_count": 271,
      "outputs": [
        {
          "output_type": "execute_result",
          "data": {
            "text/plain": [
              "Index(['Country', 'Total_Cases', 'Total_Deaths', 'New_Deaths',\n",
              "       'Total_Recovered', 'Active_Cases', 'Serious_Critical',\n",
              "       'Total_Cases_1Mpop', 'Deaths_1Mpop', 'Total_Tests', 'Tests_1Mpop',\n",
              "       'Population'],\n",
              "      dtype='object')"
            ]
          },
          "metadata": {},
          "execution_count": 271
        }
      ]
    },
    {
      "cell_type": "markdown",
      "source": [
        "### Reconhecer os dados, analisar os dados da tabela cru"
      ],
      "metadata": {
        "id": "Cijtvr6mH0b-"
      }
    },
    {
      "cell_type": "code",
      "source": [
        "#Mostrar as 5 primeiras linhas do dataframe\n",
        "Covid_live.head(5)"
      ],
      "metadata": {
        "colab": {
          "base_uri": "https://localhost:8080/",
          "height": 302
        },
        "id": "sQ4rIbs2HxJu",
        "outputId": "7b78f362-bb69-4679-d57b-24e392ef95cf"
      },
      "execution_count": 272,
      "outputs": [
        {
          "output_type": "execute_result",
          "data": {
            "text/plain": [
              "    Country Total_Cases Total_Deaths  New_Deaths Total_Recovered Active_Cases  \\\n",
              "Id                                                                              \n",
              "1       USA  98,166,904    1,084,282         NaN      94,962,112    2,120,510   \n",
              "2     India  44,587,307      528,629         NaN      44,019,095       39,583   \n",
              "3    France  35,342,950      155,078         NaN      34,527,115      660,757   \n",
              "4    Brazil  34,706,757      686,027         NaN      33,838,636      182,094   \n",
              "5   Germany  33,312,373      149,948         NaN      32,315,200      847,225   \n",
              "\n",
              "   Serious_Critical Total_Cases_1Mpop Deaths_1Mpop    Total_Tests Tests_1Mpop  \\\n",
              "Id                                                                              \n",
              "1             2,970           293,206        3,239  1,118,158,870   3,339,729   \n",
              "2               698            31,698          376    894,416,853     635,857   \n",
              "3               869           538,892        2,365    271,490,188   4,139,547   \n",
              "4             8,318           161,162        3,186     63,776,166     296,146   \n",
              "5             1,406           397,126        1,788    122,332,384   1,458,359   \n",
              "\n",
              "       Population  \n",
              "Id                 \n",
              "1     334,805,269  \n",
              "2   1,406,631,776  \n",
              "3      65,584,518  \n",
              "4     215,353,593  \n",
              "5      83,883,596  "
            ],
            "text/html": [
              "\n",
              "  <div id=\"df-e6a589f7-1e61-48a7-92a8-6198d934572a\">\n",
              "    <div class=\"colab-df-container\">\n",
              "      <div>\n",
              "<style scoped>\n",
              "    .dataframe tbody tr th:only-of-type {\n",
              "        vertical-align: middle;\n",
              "    }\n",
              "\n",
              "    .dataframe tbody tr th {\n",
              "        vertical-align: top;\n",
              "    }\n",
              "\n",
              "    .dataframe thead th {\n",
              "        text-align: right;\n",
              "    }\n",
              "</style>\n",
              "<table border=\"1\" class=\"dataframe\">\n",
              "  <thead>\n",
              "    <tr style=\"text-align: right;\">\n",
              "      <th></th>\n",
              "      <th>Country</th>\n",
              "      <th>Total_Cases</th>\n",
              "      <th>Total_Deaths</th>\n",
              "      <th>New_Deaths</th>\n",
              "      <th>Total_Recovered</th>\n",
              "      <th>Active_Cases</th>\n",
              "      <th>Serious_Critical</th>\n",
              "      <th>Total_Cases_1Mpop</th>\n",
              "      <th>Deaths_1Mpop</th>\n",
              "      <th>Total_Tests</th>\n",
              "      <th>Tests_1Mpop</th>\n",
              "      <th>Population</th>\n",
              "    </tr>\n",
              "    <tr>\n",
              "      <th>Id</th>\n",
              "      <th></th>\n",
              "      <th></th>\n",
              "      <th></th>\n",
              "      <th></th>\n",
              "      <th></th>\n",
              "      <th></th>\n",
              "      <th></th>\n",
              "      <th></th>\n",
              "      <th></th>\n",
              "      <th></th>\n",
              "      <th></th>\n",
              "      <th></th>\n",
              "    </tr>\n",
              "  </thead>\n",
              "  <tbody>\n",
              "    <tr>\n",
              "      <th>1</th>\n",
              "      <td>USA</td>\n",
              "      <td>98,166,904</td>\n",
              "      <td>1,084,282</td>\n",
              "      <td>NaN</td>\n",
              "      <td>94,962,112</td>\n",
              "      <td>2,120,510</td>\n",
              "      <td>2,970</td>\n",
              "      <td>293,206</td>\n",
              "      <td>3,239</td>\n",
              "      <td>1,118,158,870</td>\n",
              "      <td>3,339,729</td>\n",
              "      <td>334,805,269</td>\n",
              "    </tr>\n",
              "    <tr>\n",
              "      <th>2</th>\n",
              "      <td>India</td>\n",
              "      <td>44,587,307</td>\n",
              "      <td>528,629</td>\n",
              "      <td>NaN</td>\n",
              "      <td>44,019,095</td>\n",
              "      <td>39,583</td>\n",
              "      <td>698</td>\n",
              "      <td>31,698</td>\n",
              "      <td>376</td>\n",
              "      <td>894,416,853</td>\n",
              "      <td>635,857</td>\n",
              "      <td>1,406,631,776</td>\n",
              "    </tr>\n",
              "    <tr>\n",
              "      <th>3</th>\n",
              "      <td>France</td>\n",
              "      <td>35,342,950</td>\n",
              "      <td>155,078</td>\n",
              "      <td>NaN</td>\n",
              "      <td>34,527,115</td>\n",
              "      <td>660,757</td>\n",
              "      <td>869</td>\n",
              "      <td>538,892</td>\n",
              "      <td>2,365</td>\n",
              "      <td>271,490,188</td>\n",
              "      <td>4,139,547</td>\n",
              "      <td>65,584,518</td>\n",
              "    </tr>\n",
              "    <tr>\n",
              "      <th>4</th>\n",
              "      <td>Brazil</td>\n",
              "      <td>34,706,757</td>\n",
              "      <td>686,027</td>\n",
              "      <td>NaN</td>\n",
              "      <td>33,838,636</td>\n",
              "      <td>182,094</td>\n",
              "      <td>8,318</td>\n",
              "      <td>161,162</td>\n",
              "      <td>3,186</td>\n",
              "      <td>63,776,166</td>\n",
              "      <td>296,146</td>\n",
              "      <td>215,353,593</td>\n",
              "    </tr>\n",
              "    <tr>\n",
              "      <th>5</th>\n",
              "      <td>Germany</td>\n",
              "      <td>33,312,373</td>\n",
              "      <td>149,948</td>\n",
              "      <td>NaN</td>\n",
              "      <td>32,315,200</td>\n",
              "      <td>847,225</td>\n",
              "      <td>1,406</td>\n",
              "      <td>397,126</td>\n",
              "      <td>1,788</td>\n",
              "      <td>122,332,384</td>\n",
              "      <td>1,458,359</td>\n",
              "      <td>83,883,596</td>\n",
              "    </tr>\n",
              "  </tbody>\n",
              "</table>\n",
              "</div>\n",
              "      <button class=\"colab-df-convert\" onclick=\"convertToInteractive('df-e6a589f7-1e61-48a7-92a8-6198d934572a')\"\n",
              "              title=\"Convert this dataframe to an interactive table.\"\n",
              "              style=\"display:none;\">\n",
              "        \n",
              "  <svg xmlns=\"http://www.w3.org/2000/svg\" height=\"24px\"viewBox=\"0 0 24 24\"\n",
              "       width=\"24px\">\n",
              "    <path d=\"M0 0h24v24H0V0z\" fill=\"none\"/>\n",
              "    <path d=\"M18.56 5.44l.94 2.06.94-2.06 2.06-.94-2.06-.94-.94-2.06-.94 2.06-2.06.94zm-11 1L8.5 8.5l.94-2.06 2.06-.94-2.06-.94L8.5 2.5l-.94 2.06-2.06.94zm10 10l.94 2.06.94-2.06 2.06-.94-2.06-.94-.94-2.06-.94 2.06-2.06.94z\"/><path d=\"M17.41 7.96l-1.37-1.37c-.4-.4-.92-.59-1.43-.59-.52 0-1.04.2-1.43.59L10.3 9.45l-7.72 7.72c-.78.78-.78 2.05 0 2.83L4 21.41c.39.39.9.59 1.41.59.51 0 1.02-.2 1.41-.59l7.78-7.78 2.81-2.81c.8-.78.8-2.07 0-2.86zM5.41 20L4 18.59l7.72-7.72 1.47 1.35L5.41 20z\"/>\n",
              "  </svg>\n",
              "      </button>\n",
              "      \n",
              "  <style>\n",
              "    .colab-df-container {\n",
              "      display:flex;\n",
              "      flex-wrap:wrap;\n",
              "      gap: 12px;\n",
              "    }\n",
              "\n",
              "    .colab-df-convert {\n",
              "      background-color: #E8F0FE;\n",
              "      border: none;\n",
              "      border-radius: 50%;\n",
              "      cursor: pointer;\n",
              "      display: none;\n",
              "      fill: #1967D2;\n",
              "      height: 32px;\n",
              "      padding: 0 0 0 0;\n",
              "      width: 32px;\n",
              "    }\n",
              "\n",
              "    .colab-df-convert:hover {\n",
              "      background-color: #E2EBFA;\n",
              "      box-shadow: 0px 1px 2px rgba(60, 64, 67, 0.3), 0px 1px 3px 1px rgba(60, 64, 67, 0.15);\n",
              "      fill: #174EA6;\n",
              "    }\n",
              "\n",
              "    [theme=dark] .colab-df-convert {\n",
              "      background-color: #3B4455;\n",
              "      fill: #D2E3FC;\n",
              "    }\n",
              "\n",
              "    [theme=dark] .colab-df-convert:hover {\n",
              "      background-color: #434B5C;\n",
              "      box-shadow: 0px 1px 3px 1px rgba(0, 0, 0, 0.15);\n",
              "      filter: drop-shadow(0px 1px 2px rgba(0, 0, 0, 0.3));\n",
              "      fill: #FFFFFF;\n",
              "    }\n",
              "  </style>\n",
              "\n",
              "      <script>\n",
              "        const buttonEl =\n",
              "          document.querySelector('#df-e6a589f7-1e61-48a7-92a8-6198d934572a button.colab-df-convert');\n",
              "        buttonEl.style.display =\n",
              "          google.colab.kernel.accessAllowed ? 'block' : 'none';\n",
              "\n",
              "        async function convertToInteractive(key) {\n",
              "          const element = document.querySelector('#df-e6a589f7-1e61-48a7-92a8-6198d934572a');\n",
              "          const dataTable =\n",
              "            await google.colab.kernel.invokeFunction('convertToInteractive',\n",
              "                                                     [key], {});\n",
              "          if (!dataTable) return;\n",
              "\n",
              "          const docLinkHtml = 'Like what you see? Visit the ' +\n",
              "            '<a target=\"_blank\" href=https://colab.research.google.com/notebooks/data_table.ipynb>data table notebook</a>'\n",
              "            + ' to learn more about interactive tables.';\n",
              "          element.innerHTML = '';\n",
              "          dataTable['output_type'] = 'display_data';\n",
              "          await google.colab.output.renderOutput(dataTable, element);\n",
              "          const docLink = document.createElement('div');\n",
              "          docLink.innerHTML = docLinkHtml;\n",
              "          element.appendChild(docLink);\n",
              "        }\n",
              "      </script>\n",
              "    </div>\n",
              "  </div>\n",
              "  "
            ]
          },
          "metadata": {},
          "execution_count": 272
        }
      ]
    },
    {
      "cell_type": "code",
      "source": [
        "#Mostrar informações sobre o dataframe\n",
        "Covid_live.info()"
      ],
      "metadata": {
        "colab": {
          "base_uri": "https://localhost:8080/"
        },
        "id": "I-U_uC2vHxF0",
        "outputId": "554ce649-9623-43e7-c830-e5d8d9ab6964"
      },
      "execution_count": 273,
      "outputs": [
        {
          "output_type": "stream",
          "name": "stdout",
          "text": [
            "<class 'pandas.core.frame.DataFrame'>\n",
            "Int64Index: 230 entries, 1 to 230\n",
            "Data columns (total 12 columns):\n",
            " #   Column             Non-Null Count  Dtype  \n",
            "---  ------             --------------  -----  \n",
            " 0   Country            230 non-null    object \n",
            " 1   Total_Cases        230 non-null    object \n",
            " 2   Total_Deaths       225 non-null    object \n",
            " 3   New_Deaths         3 non-null      float64\n",
            " 4   Total_Recovered    214 non-null    object \n",
            " 5   Active_Cases       215 non-null    object \n",
            " 6   Serious_Critical   147 non-null    object \n",
            " 7   Total_Cases_1Mpop  228 non-null    object \n",
            " 8   Deaths_1Mpop       223 non-null    object \n",
            " 9   Total_Tests        214 non-null    object \n",
            " 10  Tests_1Mpop        214 non-null    object \n",
            " 11  Population         228 non-null    object \n",
            "dtypes: float64(1), object(11)\n",
            "memory usage: 23.4+ KB\n"
          ]
        }
      ]
    },
    {
      "cell_type": "code",
      "source": [
        "# Ver quantos valores nulos do dataframe todo\n",
        "Covid_live.isnull().sum()"
      ],
      "metadata": {
        "colab": {
          "base_uri": "https://localhost:8080/"
        },
        "id": "ULcPX8CyHxBr",
        "outputId": "bafc0668-9051-4518-9ea2-99a1939bddd9"
      },
      "execution_count": 274,
      "outputs": [
        {
          "output_type": "execute_result",
          "data": {
            "text/plain": [
              "Country                0\n",
              "Total_Cases            0\n",
              "Total_Deaths           5\n",
              "New_Deaths           227\n",
              "Total_Recovered       16\n",
              "Active_Cases          15\n",
              "Serious_Critical      83\n",
              "Total_Cases_1Mpop      2\n",
              "Deaths_1Mpop           7\n",
              "Total_Tests           16\n",
              "Tests_1Mpop           16\n",
              "Population             2\n",
              "dtype: int64"
            ]
          },
          "metadata": {},
          "execution_count": 274
        }
      ]
    },
    {
      "cell_type": "code",
      "source": [
        "#Ver a dimensão do dataframe\n",
        "Covid_live.shape"
      ],
      "metadata": {
        "colab": {
          "base_uri": "https://localhost:8080/"
        },
        "id": "vS5SQIB_Hw-C",
        "outputId": "c03d4e98-7d59-43b1-d8bd-37e9c6b409eb"
      },
      "execution_count": 275,
      "outputs": [
        {
          "output_type": "execute_result",
          "data": {
            "text/plain": [
              "(230, 12)"
            ]
          },
          "metadata": {},
          "execution_count": 275
        }
      ]
    },
    {
      "cell_type": "code",
      "source": [
        "#Mostrar quantos valores unicos existem na coluna\n",
        "Covid_live.Country.nunique()"
      ],
      "metadata": {
        "colab": {
          "base_uri": "https://localhost:8080/"
        },
        "id": "SZYsbschHwxz",
        "outputId": "28a2b245-11e7-4c41-fcb0-3cd9b107d778"
      },
      "execution_count": 276,
      "outputs": [
        {
          "output_type": "execute_result",
          "data": {
            "text/plain": [
              "230"
            ]
          },
          "metadata": {},
          "execution_count": 276
        }
      ]
    },
    {
      "cell_type": "code",
      "source": [
        "#Mostrar quais são os valores unicos da coluna\n",
        "Covid_live.Country.unique()"
      ],
      "metadata": {
        "colab": {
          "base_uri": "https://localhost:8080/"
        },
        "id": "EDRbKUHsP3qJ",
        "outputId": "5871e9bf-6829-4881-fb9b-5b5cc4d0f8cf"
      },
      "execution_count": 277,
      "outputs": [
        {
          "output_type": "execute_result",
          "data": {
            "text/plain": [
              "array(['USA', 'India', 'France', 'Brazil', 'Germany', 'S. Korea', 'UK',\n",
              "       'Italy', 'Japan', 'Russia', 'Turkey', 'Spain', 'Vietnam',\n",
              "       'Australia', 'Argentina', 'Netherlands', 'Iran', 'Mexico',\n",
              "       'Indonesia', 'Taiwan', 'Colombia', 'Poland', 'Portugal', 'Ukraine',\n",
              "       'Austria', 'Greece', 'Malaysia', 'DPRK', 'Thailand', 'Israel',\n",
              "       'Chile', 'Belgium', 'Canada', 'Peru', 'Czechia', 'Switzerland',\n",
              "       'South Africa', 'Philippines', 'Romania', 'Denmark', 'Sweden',\n",
              "       'Iraq', 'Serbia', 'Hungary', 'Bangladesh', 'Singapore', 'Slovakia',\n",
              "       'Georgia', 'New Zealand', 'Hong Kong', 'Jordan', 'Ireland',\n",
              "       'Pakistan', 'Norway', 'Kazakhstan', 'Finland', 'Morocco',\n",
              "       'Bulgaria', 'Lithuania', 'Croatia', 'Lebanon', 'Slovenia',\n",
              "       'Tunisia', 'Guatemala', 'Cuba', 'Bolivia', 'Costa Rica', 'UAE',\n",
              "       'Ecuador', 'Nepal', 'Belarus', 'Panama', 'Uruguay', 'Mongolia',\n",
              "       'Latvia', 'Azerbaijan', 'Saudi Arabia', 'Paraguay', 'Bahrain',\n",
              "       'Sri Lanka', 'Kuwait', 'Dominican Republic', 'Myanmar',\n",
              "       'Palestine', 'Estonia', 'Moldova', 'Cyprus', 'Venezuela', 'Egypt',\n",
              "       'Libya', 'Ethiopia', 'Réunion', 'Honduras', 'Qatar', 'Armenia',\n",
              "       'Bosnia and Herzegovina', 'Oman', 'North Macedonia', 'Kenya',\n",
              "       'Zambia', 'Albania', 'Botswana', 'Luxembourg', 'Montenegro',\n",
              "       'Algeria', 'Nigeria', 'Zimbabwe', 'China', 'Uzbekistan',\n",
              "       'Mozambique', 'Brunei', 'Martinique', 'Laos', 'Kyrgyzstan',\n",
              "       'Iceland', 'El Salvador', 'Afghanistan', 'Guadeloupe', 'Maldives',\n",
              "       'Trinidad and Tobago', 'Uganda', 'Namibia', 'Ghana', 'Jamaica',\n",
              "       'Cambodia', 'Rwanda', 'Cameroon', 'Malta', 'Angola', 'Barbados',\n",
              "       'French Guiana', 'DRC', 'Channel Islands', 'Senegal', 'Malawi',\n",
              "       'Ivory Coast', 'Suriname', 'French Polynesia', 'New Caledonia',\n",
              "       'Eswatini', 'Guyana', 'Belize', 'Fiji', 'Madagascar', 'Sudan',\n",
              "       'Mauritania', 'Cabo Verde', 'Bhutan', 'Syria', 'Burundi', 'Gabon',\n",
              "       'Seychelles', 'Andorra', 'Curaçao', 'Papua New Guinea', 'Aruba',\n",
              "       'Mauritius', 'Mayotte', 'Tanzania', 'Togo', 'Isle of Man',\n",
              "       'Guinea', 'Bahamas', 'Faeroe Islands', 'Lesotho', 'Haiti', 'Mali',\n",
              "       'Cayman Islands', 'Saint Lucia', 'Benin', 'Somalia', 'Congo',\n",
              "       'Timor-Leste', 'Burkina Faso', 'Solomon Islands', 'San Marino',\n",
              "       'Gibraltar', 'Liechtenstein', 'Grenada', 'Nicaragua', 'Bermuda',\n",
              "       'South Sudan', 'Tajikistan', 'Equatorial Guinea', 'Tonga', 'Samoa',\n",
              "       'Dominica', 'Djibouti', 'Marshall Islands', 'CAR', 'Monaco',\n",
              "       'Gambia', 'Saint Martin', 'Greenland', 'Yemen', 'Vanuatu',\n",
              "       'Caribbean Netherlands', 'Sint Maarten', 'Eritrea', 'Niger',\n",
              "       'Micronesia', 'Antigua and Barbuda', 'Guinea-Bissau', 'Comoros',\n",
              "       'Liberia', 'Sierra Leone', 'Chad', 'British Virgin Islands',\n",
              "       'St. Vincent Grenadines', 'Saint Kitts and Nevis', 'Cook Islands',\n",
              "       'Turks and Caicos', 'Sao Tome and Principe', 'Palau', 'St. Barth',\n",
              "       'Nauru', 'Anguilla', 'Kiribati', 'Saint Pierre Miquelon',\n",
              "       'Falkland Islands', 'Montserrat', 'Saint Helena', 'Macao',\n",
              "       'Wallis and Futuna', 'Diamond Princess', 'Niue', 'Vatican City',\n",
              "       'Tuvalu', 'Western Sahara', 'MS Zaandam'], dtype=object)"
            ]
          },
          "metadata": {},
          "execution_count": 277
        }
      ]
    },
    {
      "cell_type": "code",
      "source": [
        "#Mostrar a frequencia que cada valor unico de uma coluna aparece\n",
        "Covid_live.Country.value_counts()"
      ],
      "metadata": {
        "colab": {
          "base_uri": "https://localhost:8080/"
        },
        "id": "o3lmLBclQAem",
        "outputId": "ada69f42-b6c3-4e7c-99bc-b6f76ae03a5a"
      },
      "execution_count": 278,
      "outputs": [
        {
          "output_type": "execute_result",
          "data": {
            "text/plain": [
              "USA                   1\n",
              "Sudan                 1\n",
              "Cabo Verde            1\n",
              "Bhutan                1\n",
              "Syria                 1\n",
              "                     ..\n",
              "Kuwait                1\n",
              "Dominican Republic    1\n",
              "Myanmar               1\n",
              "Palestine             1\n",
              "MS Zaandam            1\n",
              "Name: Country, Length: 230, dtype: int64"
            ]
          },
          "metadata": {},
          "execution_count": 278
        }
      ]
    },
    {
      "cell_type": "markdown",
      "source": [
        "### Valores Nulos"
      ],
      "metadata": {
        "id": "g_rGbet9Qz84"
      }
    },
    {
      "cell_type": "markdown",
      "source": [
        "Qual coluna tem mais valores nulos?"
      ],
      "metadata": {
        "id": "QWO5l7NSTaKS"
      }
    },
    {
      "cell_type": "code",
      "source": [
        "#For para saber qual coluna tem mais valores nulos\n",
        "maior_valor = 0\n",
        "for i in colunas:\n",
        "  if Covid_live[i].isnull().sum() > maior_valor:\n",
        "    maior_valor = Covid_live[i].isnull().sum()\n",
        "    coluna_maior_valor = i\n",
        "\n",
        "print(f'A coluna que tem mais valores nulos é a coluna \\\"{coluna_maior_valor}\\\" com {maior_valor} valores')"
      ],
      "metadata": {
        "colab": {
          "base_uri": "https://localhost:8080/"
        },
        "id": "7ci9sqA7Qhwi",
        "outputId": "324a1a8a-9c24-40eb-fb26-81505230a9c1"
      },
      "execution_count": 279,
      "outputs": [
        {
          "output_type": "stream",
          "name": "stdout",
          "text": [
            "A coluna que tem mais valores nulos é a coluna \"New_Deaths\" com 227 valores\n"
          ]
        }
      ]
    },
    {
      "cell_type": "markdown",
      "source": [
        "Qual coluna tem menos valores nulos? diferente de 0"
      ],
      "metadata": {
        "id": "Oj2g1EriU7qd"
      }
    },
    {
      "cell_type": "code",
      "source": [
        "#For para saber qual coluna tem menos valores nulos diferente de 0\n",
        "count = 1\n",
        "for i in colunas:\n",
        "  if Covid_live[i].isnull().sum() != 0:\n",
        "    if count == 1:\n",
        "      menor_valor = Covid_live[i].isnull().sum()\n",
        "      coluna_menor_valor = i\n",
        "      count = 2\n",
        "    elif Covid_live[i].isnull().sum() < menor_valor:\n",
        "      menor_valor = Covid_live[i].isnull().sum()\n",
        "      coluna_menor_valor = i\n",
        "\n",
        "print(f'A coluna que tem menos valores nulos (diferente de 0) é a coluna \\\"{coluna_menor_valor}\\\" com {menor_valor} valores')"
      ],
      "metadata": {
        "colab": {
          "base_uri": "https://localhost:8080/"
        },
        "id": "wBCKtIksQhlT",
        "outputId": "e2005250-b9d0-478c-e95c-451b6d8ac241"
      },
      "execution_count": 280,
      "outputs": [
        {
          "output_type": "stream",
          "name": "stdout",
          "text": [
            "A coluna que tem menos valores nulos (diferente de 0) é a coluna \"Total_Cases_1Mpop\" com 2 valores\n"
          ]
        }
      ]
    },
    {
      "cell_type": "markdown",
      "source": [
        "Quais colunas tem valores nulos?"
      ],
      "metadata": {
        "id": "EOw2BI5za3gb"
      }
    },
    {
      "cell_type": "code",
      "source": [
        "print('Colunas que possuem valores nulos:')\n",
        "colunas_nulas = []\n",
        "for i in colunas:\n",
        "  if Covid_live[i].isnull().sum() != 0:\n",
        "      print(i)\n",
        "      colunas_nulas.append(i)"
      ],
      "metadata": {
        "colab": {
          "base_uri": "https://localhost:8080/"
        },
        "id": "Cdyb8kJNa75O",
        "outputId": "08caedf6-8956-4b76-90b0-aa97aeb6f30a"
      },
      "execution_count": 281,
      "outputs": [
        {
          "output_type": "stream",
          "name": "stdout",
          "text": [
            "Colunas que possuem valores nulos:\n",
            "Total_Deaths\n",
            "New_Deaths\n",
            "Total_Recovered\n",
            "Active_Cases\n",
            "Serious_Critical\n",
            "Total_Cases_1Mpop\n",
            "Deaths_1Mpop\n",
            "Total_Tests\n",
            "Tests_1Mpop\n",
            "Population\n"
          ]
        }
      ]
    },
    {
      "cell_type": "markdown",
      "source": [
        "Crie um dataframe sobre Covid sem dados nulos "
      ],
      "metadata": {
        "id": "JEtRB-zfaKIV"
      }
    },
    {
      "cell_type": "code",
      "source": [
        "#Primeiro é preciso analisar qual é a solução mais viavél para cada coluna"
      ],
      "metadata": {
        "id": "jB7dEL8jQhRs"
      },
      "execution_count": 282,
      "outputs": []
    },
    {
      "cell_type": "code",
      "source": [
        "#Mostrar apenas as colunas que contem valores nulos \n",
        "Covid_live.loc[:, colunas_nulas].head(10)"
      ],
      "metadata": {
        "colab": {
          "base_uri": "https://localhost:8080/",
          "height": 394
        },
        "id": "QtJEirqhcibd",
        "outputId": "f55d2e16-c8b8-445a-b77b-3619206a9824"
      },
      "execution_count": 283,
      "outputs": [
        {
          "output_type": "execute_result",
          "data": {
            "text/plain": [
              "   Total_Deaths  New_Deaths Total_Recovered Active_Cases Serious_Critical  \\\n",
              "Id                                                                          \n",
              "1     1,084,282         NaN      94,962,112    2,120,510            2,970   \n",
              "2       528,629         NaN      44,019,095       39,583              698   \n",
              "3       155,078         NaN      34,527,115      660,757              869   \n",
              "4       686,027         NaN      33,838,636      182,094            8,318   \n",
              "5       149,948         NaN      32,315,200      847,225            1,406   \n",
              "6        28,406        42.0      24,013,461      727,234              352   \n",
              "7       189,919         NaN      23,347,871       84,162              146   \n",
              "8       177,054         NaN      21,779,604      476,145              141   \n",
              "9        44,678         NaN      20,380,089      804,449              204   \n",
              "10      387,163         NaN      19,979,763      581,544            2,300   \n",
              "\n",
              "   Total_Cases_1Mpop Deaths_1Mpop    Total_Tests Tests_1Mpop     Population  \n",
              "Id                                                                           \n",
              "1            293,206        3,239  1,118,158,870   3,339,729    334,805,269  \n",
              "2             31,698          376    894,416,853     635,857  1,406,631,776  \n",
              "3            538,892        2,365    271,490,188   4,139,547     65,584,518  \n",
              "4            161,162        3,186     63,776,166     296,146    215,353,593  \n",
              "5            397,126        1,788    122,332,384   1,458,359     83,883,596  \n",
              "6            482,547          553     15,804,065     307,892     51,329,899  \n",
              "7            344,857        2,773    522,526,476   7,628,357     68,497,907  \n",
              "8            372,250        2,938    246,636,495   4,092,684     60,262,770  \n",
              "9            169,043          356     76,201,407     606,772    125,584,838  \n",
              "10           143,674        2,655    273,400,000   1,875,095    145,805,947  "
            ],
            "text/html": [
              "\n",
              "  <div id=\"df-3dbe20e6-683c-4f72-a4a7-efe9c27c9e23\">\n",
              "    <div class=\"colab-df-container\">\n",
              "      <div>\n",
              "<style scoped>\n",
              "    .dataframe tbody tr th:only-of-type {\n",
              "        vertical-align: middle;\n",
              "    }\n",
              "\n",
              "    .dataframe tbody tr th {\n",
              "        vertical-align: top;\n",
              "    }\n",
              "\n",
              "    .dataframe thead th {\n",
              "        text-align: right;\n",
              "    }\n",
              "</style>\n",
              "<table border=\"1\" class=\"dataframe\">\n",
              "  <thead>\n",
              "    <tr style=\"text-align: right;\">\n",
              "      <th></th>\n",
              "      <th>Total_Deaths</th>\n",
              "      <th>New_Deaths</th>\n",
              "      <th>Total_Recovered</th>\n",
              "      <th>Active_Cases</th>\n",
              "      <th>Serious_Critical</th>\n",
              "      <th>Total_Cases_1Mpop</th>\n",
              "      <th>Deaths_1Mpop</th>\n",
              "      <th>Total_Tests</th>\n",
              "      <th>Tests_1Mpop</th>\n",
              "      <th>Population</th>\n",
              "    </tr>\n",
              "    <tr>\n",
              "      <th>Id</th>\n",
              "      <th></th>\n",
              "      <th></th>\n",
              "      <th></th>\n",
              "      <th></th>\n",
              "      <th></th>\n",
              "      <th></th>\n",
              "      <th></th>\n",
              "      <th></th>\n",
              "      <th></th>\n",
              "      <th></th>\n",
              "    </tr>\n",
              "  </thead>\n",
              "  <tbody>\n",
              "    <tr>\n",
              "      <th>1</th>\n",
              "      <td>1,084,282</td>\n",
              "      <td>NaN</td>\n",
              "      <td>94,962,112</td>\n",
              "      <td>2,120,510</td>\n",
              "      <td>2,970</td>\n",
              "      <td>293,206</td>\n",
              "      <td>3,239</td>\n",
              "      <td>1,118,158,870</td>\n",
              "      <td>3,339,729</td>\n",
              "      <td>334,805,269</td>\n",
              "    </tr>\n",
              "    <tr>\n",
              "      <th>2</th>\n",
              "      <td>528,629</td>\n",
              "      <td>NaN</td>\n",
              "      <td>44,019,095</td>\n",
              "      <td>39,583</td>\n",
              "      <td>698</td>\n",
              "      <td>31,698</td>\n",
              "      <td>376</td>\n",
              "      <td>894,416,853</td>\n",
              "      <td>635,857</td>\n",
              "      <td>1,406,631,776</td>\n",
              "    </tr>\n",
              "    <tr>\n",
              "      <th>3</th>\n",
              "      <td>155,078</td>\n",
              "      <td>NaN</td>\n",
              "      <td>34,527,115</td>\n",
              "      <td>660,757</td>\n",
              "      <td>869</td>\n",
              "      <td>538,892</td>\n",
              "      <td>2,365</td>\n",
              "      <td>271,490,188</td>\n",
              "      <td>4,139,547</td>\n",
              "      <td>65,584,518</td>\n",
              "    </tr>\n",
              "    <tr>\n",
              "      <th>4</th>\n",
              "      <td>686,027</td>\n",
              "      <td>NaN</td>\n",
              "      <td>33,838,636</td>\n",
              "      <td>182,094</td>\n",
              "      <td>8,318</td>\n",
              "      <td>161,162</td>\n",
              "      <td>3,186</td>\n",
              "      <td>63,776,166</td>\n",
              "      <td>296,146</td>\n",
              "      <td>215,353,593</td>\n",
              "    </tr>\n",
              "    <tr>\n",
              "      <th>5</th>\n",
              "      <td>149,948</td>\n",
              "      <td>NaN</td>\n",
              "      <td>32,315,200</td>\n",
              "      <td>847,225</td>\n",
              "      <td>1,406</td>\n",
              "      <td>397,126</td>\n",
              "      <td>1,788</td>\n",
              "      <td>122,332,384</td>\n",
              "      <td>1,458,359</td>\n",
              "      <td>83,883,596</td>\n",
              "    </tr>\n",
              "    <tr>\n",
              "      <th>6</th>\n",
              "      <td>28,406</td>\n",
              "      <td>42.0</td>\n",
              "      <td>24,013,461</td>\n",
              "      <td>727,234</td>\n",
              "      <td>352</td>\n",
              "      <td>482,547</td>\n",
              "      <td>553</td>\n",
              "      <td>15,804,065</td>\n",
              "      <td>307,892</td>\n",
              "      <td>51,329,899</td>\n",
              "    </tr>\n",
              "    <tr>\n",
              "      <th>7</th>\n",
              "      <td>189,919</td>\n",
              "      <td>NaN</td>\n",
              "      <td>23,347,871</td>\n",
              "      <td>84,162</td>\n",
              "      <td>146</td>\n",
              "      <td>344,857</td>\n",
              "      <td>2,773</td>\n",
              "      <td>522,526,476</td>\n",
              "      <td>7,628,357</td>\n",
              "      <td>68,497,907</td>\n",
              "    </tr>\n",
              "    <tr>\n",
              "      <th>8</th>\n",
              "      <td>177,054</td>\n",
              "      <td>NaN</td>\n",
              "      <td>21,779,604</td>\n",
              "      <td>476,145</td>\n",
              "      <td>141</td>\n",
              "      <td>372,250</td>\n",
              "      <td>2,938</td>\n",
              "      <td>246,636,495</td>\n",
              "      <td>4,092,684</td>\n",
              "      <td>60,262,770</td>\n",
              "    </tr>\n",
              "    <tr>\n",
              "      <th>9</th>\n",
              "      <td>44,678</td>\n",
              "      <td>NaN</td>\n",
              "      <td>20,380,089</td>\n",
              "      <td>804,449</td>\n",
              "      <td>204</td>\n",
              "      <td>169,043</td>\n",
              "      <td>356</td>\n",
              "      <td>76,201,407</td>\n",
              "      <td>606,772</td>\n",
              "      <td>125,584,838</td>\n",
              "    </tr>\n",
              "    <tr>\n",
              "      <th>10</th>\n",
              "      <td>387,163</td>\n",
              "      <td>NaN</td>\n",
              "      <td>19,979,763</td>\n",
              "      <td>581,544</td>\n",
              "      <td>2,300</td>\n",
              "      <td>143,674</td>\n",
              "      <td>2,655</td>\n",
              "      <td>273,400,000</td>\n",
              "      <td>1,875,095</td>\n",
              "      <td>145,805,947</td>\n",
              "    </tr>\n",
              "  </tbody>\n",
              "</table>\n",
              "</div>\n",
              "      <button class=\"colab-df-convert\" onclick=\"convertToInteractive('df-3dbe20e6-683c-4f72-a4a7-efe9c27c9e23')\"\n",
              "              title=\"Convert this dataframe to an interactive table.\"\n",
              "              style=\"display:none;\">\n",
              "        \n",
              "  <svg xmlns=\"http://www.w3.org/2000/svg\" height=\"24px\"viewBox=\"0 0 24 24\"\n",
              "       width=\"24px\">\n",
              "    <path d=\"M0 0h24v24H0V0z\" fill=\"none\"/>\n",
              "    <path d=\"M18.56 5.44l.94 2.06.94-2.06 2.06-.94-2.06-.94-.94-2.06-.94 2.06-2.06.94zm-11 1L8.5 8.5l.94-2.06 2.06-.94-2.06-.94L8.5 2.5l-.94 2.06-2.06.94zm10 10l.94 2.06.94-2.06 2.06-.94-2.06-.94-.94-2.06-.94 2.06-2.06.94z\"/><path d=\"M17.41 7.96l-1.37-1.37c-.4-.4-.92-.59-1.43-.59-.52 0-1.04.2-1.43.59L10.3 9.45l-7.72 7.72c-.78.78-.78 2.05 0 2.83L4 21.41c.39.39.9.59 1.41.59.51 0 1.02-.2 1.41-.59l7.78-7.78 2.81-2.81c.8-.78.8-2.07 0-2.86zM5.41 20L4 18.59l7.72-7.72 1.47 1.35L5.41 20z\"/>\n",
              "  </svg>\n",
              "      </button>\n",
              "      \n",
              "  <style>\n",
              "    .colab-df-container {\n",
              "      display:flex;\n",
              "      flex-wrap:wrap;\n",
              "      gap: 12px;\n",
              "    }\n",
              "\n",
              "    .colab-df-convert {\n",
              "      background-color: #E8F0FE;\n",
              "      border: none;\n",
              "      border-radius: 50%;\n",
              "      cursor: pointer;\n",
              "      display: none;\n",
              "      fill: #1967D2;\n",
              "      height: 32px;\n",
              "      padding: 0 0 0 0;\n",
              "      width: 32px;\n",
              "    }\n",
              "\n",
              "    .colab-df-convert:hover {\n",
              "      background-color: #E2EBFA;\n",
              "      box-shadow: 0px 1px 2px rgba(60, 64, 67, 0.3), 0px 1px 3px 1px rgba(60, 64, 67, 0.15);\n",
              "      fill: #174EA6;\n",
              "    }\n",
              "\n",
              "    [theme=dark] .colab-df-convert {\n",
              "      background-color: #3B4455;\n",
              "      fill: #D2E3FC;\n",
              "    }\n",
              "\n",
              "    [theme=dark] .colab-df-convert:hover {\n",
              "      background-color: #434B5C;\n",
              "      box-shadow: 0px 1px 3px 1px rgba(0, 0, 0, 0.15);\n",
              "      filter: drop-shadow(0px 1px 2px rgba(0, 0, 0, 0.3));\n",
              "      fill: #FFFFFF;\n",
              "    }\n",
              "  </style>\n",
              "\n",
              "      <script>\n",
              "        const buttonEl =\n",
              "          document.querySelector('#df-3dbe20e6-683c-4f72-a4a7-efe9c27c9e23 button.colab-df-convert');\n",
              "        buttonEl.style.display =\n",
              "          google.colab.kernel.accessAllowed ? 'block' : 'none';\n",
              "\n",
              "        async function convertToInteractive(key) {\n",
              "          const element = document.querySelector('#df-3dbe20e6-683c-4f72-a4a7-efe9c27c9e23');\n",
              "          const dataTable =\n",
              "            await google.colab.kernel.invokeFunction('convertToInteractive',\n",
              "                                                     [key], {});\n",
              "          if (!dataTable) return;\n",
              "\n",
              "          const docLinkHtml = 'Like what you see? Visit the ' +\n",
              "            '<a target=\"_blank\" href=https://colab.research.google.com/notebooks/data_table.ipynb>data table notebook</a>'\n",
              "            + ' to learn more about interactive tables.';\n",
              "          element.innerHTML = '';\n",
              "          dataTable['output_type'] = 'display_data';\n",
              "          await google.colab.output.renderOutput(dataTable, element);\n",
              "          const docLink = document.createElement('div');\n",
              "          docLink.innerHTML = docLinkHtml;\n",
              "          element.appendChild(docLink);\n",
              "        }\n",
              "      </script>\n",
              "    </div>\n",
              "  </div>\n",
              "  "
            ]
          },
          "metadata": {},
          "execution_count": 283
        }
      ]
    },
    {
      "cell_type": "code",
      "source": [
        "#Para o melhor sentido do dataframe vamos trocar os valores nulos para \"Unknown\"\n",
        "Covid_live_nonull = Covid_live.fillna('Unknown')\n",
        "Covid_live_nonull.head(3)"
      ],
      "metadata": {
        "id": "0Kq8kUdVcjRY",
        "colab": {
          "base_uri": "https://localhost:8080/",
          "height": 239
        },
        "outputId": "34cdd110-3431-4784-b48f-944a6eb43e2f"
      },
      "execution_count": 284,
      "outputs": [
        {
          "output_type": "execute_result",
          "data": {
            "text/plain": [
              "   Country Total_Cases Total_Deaths New_Deaths Total_Recovered Active_Cases  \\\n",
              "Id                                                                            \n",
              "1      USA  98,166,904    1,084,282    Unknown      94,962,112    2,120,510   \n",
              "2    India  44,587,307      528,629    Unknown      44,019,095       39,583   \n",
              "3   France  35,342,950      155,078    Unknown      34,527,115      660,757   \n",
              "\n",
              "   Serious_Critical Total_Cases_1Mpop Deaths_1Mpop    Total_Tests Tests_1Mpop  \\\n",
              "Id                                                                              \n",
              "1             2,970           293,206        3,239  1,118,158,870   3,339,729   \n",
              "2               698            31,698          376    894,416,853     635,857   \n",
              "3               869           538,892        2,365    271,490,188   4,139,547   \n",
              "\n",
              "       Population  \n",
              "Id                 \n",
              "1     334,805,269  \n",
              "2   1,406,631,776  \n",
              "3      65,584,518  "
            ],
            "text/html": [
              "\n",
              "  <div id=\"df-753fd21d-854d-4be3-90ce-2cbc612590b5\">\n",
              "    <div class=\"colab-df-container\">\n",
              "      <div>\n",
              "<style scoped>\n",
              "    .dataframe tbody tr th:only-of-type {\n",
              "        vertical-align: middle;\n",
              "    }\n",
              "\n",
              "    .dataframe tbody tr th {\n",
              "        vertical-align: top;\n",
              "    }\n",
              "\n",
              "    .dataframe thead th {\n",
              "        text-align: right;\n",
              "    }\n",
              "</style>\n",
              "<table border=\"1\" class=\"dataframe\">\n",
              "  <thead>\n",
              "    <tr style=\"text-align: right;\">\n",
              "      <th></th>\n",
              "      <th>Country</th>\n",
              "      <th>Total_Cases</th>\n",
              "      <th>Total_Deaths</th>\n",
              "      <th>New_Deaths</th>\n",
              "      <th>Total_Recovered</th>\n",
              "      <th>Active_Cases</th>\n",
              "      <th>Serious_Critical</th>\n",
              "      <th>Total_Cases_1Mpop</th>\n",
              "      <th>Deaths_1Mpop</th>\n",
              "      <th>Total_Tests</th>\n",
              "      <th>Tests_1Mpop</th>\n",
              "      <th>Population</th>\n",
              "    </tr>\n",
              "    <tr>\n",
              "      <th>Id</th>\n",
              "      <th></th>\n",
              "      <th></th>\n",
              "      <th></th>\n",
              "      <th></th>\n",
              "      <th></th>\n",
              "      <th></th>\n",
              "      <th></th>\n",
              "      <th></th>\n",
              "      <th></th>\n",
              "      <th></th>\n",
              "      <th></th>\n",
              "      <th></th>\n",
              "    </tr>\n",
              "  </thead>\n",
              "  <tbody>\n",
              "    <tr>\n",
              "      <th>1</th>\n",
              "      <td>USA</td>\n",
              "      <td>98,166,904</td>\n",
              "      <td>1,084,282</td>\n",
              "      <td>Unknown</td>\n",
              "      <td>94,962,112</td>\n",
              "      <td>2,120,510</td>\n",
              "      <td>2,970</td>\n",
              "      <td>293,206</td>\n",
              "      <td>3,239</td>\n",
              "      <td>1,118,158,870</td>\n",
              "      <td>3,339,729</td>\n",
              "      <td>334,805,269</td>\n",
              "    </tr>\n",
              "    <tr>\n",
              "      <th>2</th>\n",
              "      <td>India</td>\n",
              "      <td>44,587,307</td>\n",
              "      <td>528,629</td>\n",
              "      <td>Unknown</td>\n",
              "      <td>44,019,095</td>\n",
              "      <td>39,583</td>\n",
              "      <td>698</td>\n",
              "      <td>31,698</td>\n",
              "      <td>376</td>\n",
              "      <td>894,416,853</td>\n",
              "      <td>635,857</td>\n",
              "      <td>1,406,631,776</td>\n",
              "    </tr>\n",
              "    <tr>\n",
              "      <th>3</th>\n",
              "      <td>France</td>\n",
              "      <td>35,342,950</td>\n",
              "      <td>155,078</td>\n",
              "      <td>Unknown</td>\n",
              "      <td>34,527,115</td>\n",
              "      <td>660,757</td>\n",
              "      <td>869</td>\n",
              "      <td>538,892</td>\n",
              "      <td>2,365</td>\n",
              "      <td>271,490,188</td>\n",
              "      <td>4,139,547</td>\n",
              "      <td>65,584,518</td>\n",
              "    </tr>\n",
              "  </tbody>\n",
              "</table>\n",
              "</div>\n",
              "      <button class=\"colab-df-convert\" onclick=\"convertToInteractive('df-753fd21d-854d-4be3-90ce-2cbc612590b5')\"\n",
              "              title=\"Convert this dataframe to an interactive table.\"\n",
              "              style=\"display:none;\">\n",
              "        \n",
              "  <svg xmlns=\"http://www.w3.org/2000/svg\" height=\"24px\"viewBox=\"0 0 24 24\"\n",
              "       width=\"24px\">\n",
              "    <path d=\"M0 0h24v24H0V0z\" fill=\"none\"/>\n",
              "    <path d=\"M18.56 5.44l.94 2.06.94-2.06 2.06-.94-2.06-.94-.94-2.06-.94 2.06-2.06.94zm-11 1L8.5 8.5l.94-2.06 2.06-.94-2.06-.94L8.5 2.5l-.94 2.06-2.06.94zm10 10l.94 2.06.94-2.06 2.06-.94-2.06-.94-.94-2.06-.94 2.06-2.06.94z\"/><path d=\"M17.41 7.96l-1.37-1.37c-.4-.4-.92-.59-1.43-.59-.52 0-1.04.2-1.43.59L10.3 9.45l-7.72 7.72c-.78.78-.78 2.05 0 2.83L4 21.41c.39.39.9.59 1.41.59.51 0 1.02-.2 1.41-.59l7.78-7.78 2.81-2.81c.8-.78.8-2.07 0-2.86zM5.41 20L4 18.59l7.72-7.72 1.47 1.35L5.41 20z\"/>\n",
              "  </svg>\n",
              "      </button>\n",
              "      \n",
              "  <style>\n",
              "    .colab-df-container {\n",
              "      display:flex;\n",
              "      flex-wrap:wrap;\n",
              "      gap: 12px;\n",
              "    }\n",
              "\n",
              "    .colab-df-convert {\n",
              "      background-color: #E8F0FE;\n",
              "      border: none;\n",
              "      border-radius: 50%;\n",
              "      cursor: pointer;\n",
              "      display: none;\n",
              "      fill: #1967D2;\n",
              "      height: 32px;\n",
              "      padding: 0 0 0 0;\n",
              "      width: 32px;\n",
              "    }\n",
              "\n",
              "    .colab-df-convert:hover {\n",
              "      background-color: #E2EBFA;\n",
              "      box-shadow: 0px 1px 2px rgba(60, 64, 67, 0.3), 0px 1px 3px 1px rgba(60, 64, 67, 0.15);\n",
              "      fill: #174EA6;\n",
              "    }\n",
              "\n",
              "    [theme=dark] .colab-df-convert {\n",
              "      background-color: #3B4455;\n",
              "      fill: #D2E3FC;\n",
              "    }\n",
              "\n",
              "    [theme=dark] .colab-df-convert:hover {\n",
              "      background-color: #434B5C;\n",
              "      box-shadow: 0px 1px 3px 1px rgba(0, 0, 0, 0.15);\n",
              "      filter: drop-shadow(0px 1px 2px rgba(0, 0, 0, 0.3));\n",
              "      fill: #FFFFFF;\n",
              "    }\n",
              "  </style>\n",
              "\n",
              "      <script>\n",
              "        const buttonEl =\n",
              "          document.querySelector('#df-753fd21d-854d-4be3-90ce-2cbc612590b5 button.colab-df-convert');\n",
              "        buttonEl.style.display =\n",
              "          google.colab.kernel.accessAllowed ? 'block' : 'none';\n",
              "\n",
              "        async function convertToInteractive(key) {\n",
              "          const element = document.querySelector('#df-753fd21d-854d-4be3-90ce-2cbc612590b5');\n",
              "          const dataTable =\n",
              "            await google.colab.kernel.invokeFunction('convertToInteractive',\n",
              "                                                     [key], {});\n",
              "          if (!dataTable) return;\n",
              "\n",
              "          const docLinkHtml = 'Like what you see? Visit the ' +\n",
              "            '<a target=\"_blank\" href=https://colab.research.google.com/notebooks/data_table.ipynb>data table notebook</a>'\n",
              "            + ' to learn more about interactive tables.';\n",
              "          element.innerHTML = '';\n",
              "          dataTable['output_type'] = 'display_data';\n",
              "          await google.colab.output.renderOutput(dataTable, element);\n",
              "          const docLink = document.createElement('div');\n",
              "          docLink.innerHTML = docLinkHtml;\n",
              "          element.appendChild(docLink);\n",
              "        }\n",
              "      </script>\n",
              "    </div>\n",
              "  </div>\n",
              "  "
            ]
          },
          "metadata": {},
          "execution_count": 284
        }
      ]
    },
    {
      "cell_type": "code",
      "source": [
        "Covid_live_nonull.isnull().sum()"
      ],
      "metadata": {
        "id": "vlXSesrfexO0",
        "colab": {
          "base_uri": "https://localhost:8080/"
        },
        "outputId": "580a5bfd-69ef-43ea-925b-9ebb3fa1f8af"
      },
      "execution_count": 285,
      "outputs": [
        {
          "output_type": "execute_result",
          "data": {
            "text/plain": [
              "Country              0\n",
              "Total_Cases          0\n",
              "Total_Deaths         0\n",
              "New_Deaths           0\n",
              "Total_Recovered      0\n",
              "Active_Cases         0\n",
              "Serious_Critical     0\n",
              "Total_Cases_1Mpop    0\n",
              "Deaths_1Mpop         0\n",
              "Total_Tests          0\n",
              "Tests_1Mpop          0\n",
              "Population           0\n",
              "dtype: int64"
            ]
          },
          "metadata": {},
          "execution_count": 285
        }
      ]
    },
    {
      "cell_type": "markdown",
      "source": [
        "### Localizar"
      ],
      "metadata": {
        "id": "NXvir5cVfOi8"
      }
    },
    {
      "cell_type": "markdown",
      "source": [
        "Exiba somente a linha do Brazil"
      ],
      "metadata": {
        "id": "YNNt-bavfS1a"
      }
    },
    {
      "cell_type": "code",
      "source": [
        "Covid_live.loc[Covid_live.Country == 'Brazil']"
      ],
      "metadata": {
        "id": "Hl87_Ib4fRs8",
        "colab": {
          "base_uri": "https://localhost:8080/",
          "height": 176
        },
        "outputId": "b994dbdc-40a5-4e66-a87d-fed512950df6"
      },
      "execution_count": 286,
      "outputs": [
        {
          "output_type": "execute_result",
          "data": {
            "text/plain": [
              "   Country Total_Cases Total_Deaths  New_Deaths Total_Recovered Active_Cases  \\\n",
              "Id                                                                             \n",
              "4   Brazil  34,706,757      686,027         NaN      33,838,636      182,094   \n",
              "\n",
              "   Serious_Critical Total_Cases_1Mpop Deaths_1Mpop Total_Tests Tests_1Mpop  \\\n",
              "Id                                                                           \n",
              "4             8,318           161,162        3,186  63,776,166     296,146   \n",
              "\n",
              "     Population  \n",
              "Id               \n",
              "4   215,353,593  "
            ],
            "text/html": [
              "\n",
              "  <div id=\"df-fe049d6b-d45f-4769-920b-7bf33d5b2fe5\">\n",
              "    <div class=\"colab-df-container\">\n",
              "      <div>\n",
              "<style scoped>\n",
              "    .dataframe tbody tr th:only-of-type {\n",
              "        vertical-align: middle;\n",
              "    }\n",
              "\n",
              "    .dataframe tbody tr th {\n",
              "        vertical-align: top;\n",
              "    }\n",
              "\n",
              "    .dataframe thead th {\n",
              "        text-align: right;\n",
              "    }\n",
              "</style>\n",
              "<table border=\"1\" class=\"dataframe\">\n",
              "  <thead>\n",
              "    <tr style=\"text-align: right;\">\n",
              "      <th></th>\n",
              "      <th>Country</th>\n",
              "      <th>Total_Cases</th>\n",
              "      <th>Total_Deaths</th>\n",
              "      <th>New_Deaths</th>\n",
              "      <th>Total_Recovered</th>\n",
              "      <th>Active_Cases</th>\n",
              "      <th>Serious_Critical</th>\n",
              "      <th>Total_Cases_1Mpop</th>\n",
              "      <th>Deaths_1Mpop</th>\n",
              "      <th>Total_Tests</th>\n",
              "      <th>Tests_1Mpop</th>\n",
              "      <th>Population</th>\n",
              "    </tr>\n",
              "    <tr>\n",
              "      <th>Id</th>\n",
              "      <th></th>\n",
              "      <th></th>\n",
              "      <th></th>\n",
              "      <th></th>\n",
              "      <th></th>\n",
              "      <th></th>\n",
              "      <th></th>\n",
              "      <th></th>\n",
              "      <th></th>\n",
              "      <th></th>\n",
              "      <th></th>\n",
              "      <th></th>\n",
              "    </tr>\n",
              "  </thead>\n",
              "  <tbody>\n",
              "    <tr>\n",
              "      <th>4</th>\n",
              "      <td>Brazil</td>\n",
              "      <td>34,706,757</td>\n",
              "      <td>686,027</td>\n",
              "      <td>NaN</td>\n",
              "      <td>33,838,636</td>\n",
              "      <td>182,094</td>\n",
              "      <td>8,318</td>\n",
              "      <td>161,162</td>\n",
              "      <td>3,186</td>\n",
              "      <td>63,776,166</td>\n",
              "      <td>296,146</td>\n",
              "      <td>215,353,593</td>\n",
              "    </tr>\n",
              "  </tbody>\n",
              "</table>\n",
              "</div>\n",
              "      <button class=\"colab-df-convert\" onclick=\"convertToInteractive('df-fe049d6b-d45f-4769-920b-7bf33d5b2fe5')\"\n",
              "              title=\"Convert this dataframe to an interactive table.\"\n",
              "              style=\"display:none;\">\n",
              "        \n",
              "  <svg xmlns=\"http://www.w3.org/2000/svg\" height=\"24px\"viewBox=\"0 0 24 24\"\n",
              "       width=\"24px\">\n",
              "    <path d=\"M0 0h24v24H0V0z\" fill=\"none\"/>\n",
              "    <path d=\"M18.56 5.44l.94 2.06.94-2.06 2.06-.94-2.06-.94-.94-2.06-.94 2.06-2.06.94zm-11 1L8.5 8.5l.94-2.06 2.06-.94-2.06-.94L8.5 2.5l-.94 2.06-2.06.94zm10 10l.94 2.06.94-2.06 2.06-.94-2.06-.94-.94-2.06-.94 2.06-2.06.94z\"/><path d=\"M17.41 7.96l-1.37-1.37c-.4-.4-.92-.59-1.43-.59-.52 0-1.04.2-1.43.59L10.3 9.45l-7.72 7.72c-.78.78-.78 2.05 0 2.83L4 21.41c.39.39.9.59 1.41.59.51 0 1.02-.2 1.41-.59l7.78-7.78 2.81-2.81c.8-.78.8-2.07 0-2.86zM5.41 20L4 18.59l7.72-7.72 1.47 1.35L5.41 20z\"/>\n",
              "  </svg>\n",
              "      </button>\n",
              "      \n",
              "  <style>\n",
              "    .colab-df-container {\n",
              "      display:flex;\n",
              "      flex-wrap:wrap;\n",
              "      gap: 12px;\n",
              "    }\n",
              "\n",
              "    .colab-df-convert {\n",
              "      background-color: #E8F0FE;\n",
              "      border: none;\n",
              "      border-radius: 50%;\n",
              "      cursor: pointer;\n",
              "      display: none;\n",
              "      fill: #1967D2;\n",
              "      height: 32px;\n",
              "      padding: 0 0 0 0;\n",
              "      width: 32px;\n",
              "    }\n",
              "\n",
              "    .colab-df-convert:hover {\n",
              "      background-color: #E2EBFA;\n",
              "      box-shadow: 0px 1px 2px rgba(60, 64, 67, 0.3), 0px 1px 3px 1px rgba(60, 64, 67, 0.15);\n",
              "      fill: #174EA6;\n",
              "    }\n",
              "\n",
              "    [theme=dark] .colab-df-convert {\n",
              "      background-color: #3B4455;\n",
              "      fill: #D2E3FC;\n",
              "    }\n",
              "\n",
              "    [theme=dark] .colab-df-convert:hover {\n",
              "      background-color: #434B5C;\n",
              "      box-shadow: 0px 1px 3px 1px rgba(0, 0, 0, 0.15);\n",
              "      filter: drop-shadow(0px 1px 2px rgba(0, 0, 0, 0.3));\n",
              "      fill: #FFFFFF;\n",
              "    }\n",
              "  </style>\n",
              "\n",
              "      <script>\n",
              "        const buttonEl =\n",
              "          document.querySelector('#df-fe049d6b-d45f-4769-920b-7bf33d5b2fe5 button.colab-df-convert');\n",
              "        buttonEl.style.display =\n",
              "          google.colab.kernel.accessAllowed ? 'block' : 'none';\n",
              "\n",
              "        async function convertToInteractive(key) {\n",
              "          const element = document.querySelector('#df-fe049d6b-d45f-4769-920b-7bf33d5b2fe5');\n",
              "          const dataTable =\n",
              "            await google.colab.kernel.invokeFunction('convertToInteractive',\n",
              "                                                     [key], {});\n",
              "          if (!dataTable) return;\n",
              "\n",
              "          const docLinkHtml = 'Like what you see? Visit the ' +\n",
              "            '<a target=\"_blank\" href=https://colab.research.google.com/notebooks/data_table.ipynb>data table notebook</a>'\n",
              "            + ' to learn more about interactive tables.';\n",
              "          element.innerHTML = '';\n",
              "          dataTable['output_type'] = 'display_data';\n",
              "          await google.colab.output.renderOutput(dataTable, element);\n",
              "          const docLink = document.createElement('div');\n",
              "          docLink.innerHTML = docLinkHtml;\n",
              "          element.appendChild(docLink);\n",
              "        }\n",
              "      </script>\n",
              "    </div>\n",
              "  </div>\n",
              "  "
            ]
          },
          "metadata": {},
          "execution_count": 286
        }
      ]
    },
    {
      "cell_type": "markdown",
      "source": [
        "Exiba somente as linhas dos paises Australia e Nova zelandia"
      ],
      "metadata": {
        "id": "WwZ8LJX8glTx"
      }
    },
    {
      "cell_type": "code",
      "source": [
        "Covid_live.loc[Covid_live.Country.isin(['Australia', 'New Zealand'])]"
      ],
      "metadata": {
        "id": "5XAkdJGqgGhV",
        "colab": {
          "base_uri": "https://localhost:8080/",
          "height": 225
        },
        "outputId": "79987dba-ac41-4cc2-aba5-bc8249d56005"
      },
      "execution_count": 287,
      "outputs": [
        {
          "output_type": "execute_result",
          "data": {
            "text/plain": [
              "        Country Total_Cases Total_Deaths  New_Deaths Total_Recovered  \\\n",
              "Id                                                                     \n",
              "14    Australia  10,209,239       14,984         NaN      10,133,494   \n",
              "49  New Zealand   1,779,476        2,959         NaN       1,767,660   \n",
              "\n",
              "   Active_Cases Serious_Critical Total_Cases_1Mpop Deaths_1Mpop Total_Tests  \\\n",
              "Id                                                                            \n",
              "14       60,761               49           391,627          575  78,835,048   \n",
              "49        8,857              NaN           363,292          604   7,544,063   \n",
              "\n",
              "   Tests_1Mpop  Population  \n",
              "Id                          \n",
              "14   3,024,116  26,068,792  \n",
              "49   1,540,170   4,898,203  "
            ],
            "text/html": [
              "\n",
              "  <div id=\"df-34ec5ed6-39bd-4296-ae59-6c19f4717b91\">\n",
              "    <div class=\"colab-df-container\">\n",
              "      <div>\n",
              "<style scoped>\n",
              "    .dataframe tbody tr th:only-of-type {\n",
              "        vertical-align: middle;\n",
              "    }\n",
              "\n",
              "    .dataframe tbody tr th {\n",
              "        vertical-align: top;\n",
              "    }\n",
              "\n",
              "    .dataframe thead th {\n",
              "        text-align: right;\n",
              "    }\n",
              "</style>\n",
              "<table border=\"1\" class=\"dataframe\">\n",
              "  <thead>\n",
              "    <tr style=\"text-align: right;\">\n",
              "      <th></th>\n",
              "      <th>Country</th>\n",
              "      <th>Total_Cases</th>\n",
              "      <th>Total_Deaths</th>\n",
              "      <th>New_Deaths</th>\n",
              "      <th>Total_Recovered</th>\n",
              "      <th>Active_Cases</th>\n",
              "      <th>Serious_Critical</th>\n",
              "      <th>Total_Cases_1Mpop</th>\n",
              "      <th>Deaths_1Mpop</th>\n",
              "      <th>Total_Tests</th>\n",
              "      <th>Tests_1Mpop</th>\n",
              "      <th>Population</th>\n",
              "    </tr>\n",
              "    <tr>\n",
              "      <th>Id</th>\n",
              "      <th></th>\n",
              "      <th></th>\n",
              "      <th></th>\n",
              "      <th></th>\n",
              "      <th></th>\n",
              "      <th></th>\n",
              "      <th></th>\n",
              "      <th></th>\n",
              "      <th></th>\n",
              "      <th></th>\n",
              "      <th></th>\n",
              "      <th></th>\n",
              "    </tr>\n",
              "  </thead>\n",
              "  <tbody>\n",
              "    <tr>\n",
              "      <th>14</th>\n",
              "      <td>Australia</td>\n",
              "      <td>10,209,239</td>\n",
              "      <td>14,984</td>\n",
              "      <td>NaN</td>\n",
              "      <td>10,133,494</td>\n",
              "      <td>60,761</td>\n",
              "      <td>49</td>\n",
              "      <td>391,627</td>\n",
              "      <td>575</td>\n",
              "      <td>78,835,048</td>\n",
              "      <td>3,024,116</td>\n",
              "      <td>26,068,792</td>\n",
              "    </tr>\n",
              "    <tr>\n",
              "      <th>49</th>\n",
              "      <td>New Zealand</td>\n",
              "      <td>1,779,476</td>\n",
              "      <td>2,959</td>\n",
              "      <td>NaN</td>\n",
              "      <td>1,767,660</td>\n",
              "      <td>8,857</td>\n",
              "      <td>NaN</td>\n",
              "      <td>363,292</td>\n",
              "      <td>604</td>\n",
              "      <td>7,544,063</td>\n",
              "      <td>1,540,170</td>\n",
              "      <td>4,898,203</td>\n",
              "    </tr>\n",
              "  </tbody>\n",
              "</table>\n",
              "</div>\n",
              "      <button class=\"colab-df-convert\" onclick=\"convertToInteractive('df-34ec5ed6-39bd-4296-ae59-6c19f4717b91')\"\n",
              "              title=\"Convert this dataframe to an interactive table.\"\n",
              "              style=\"display:none;\">\n",
              "        \n",
              "  <svg xmlns=\"http://www.w3.org/2000/svg\" height=\"24px\"viewBox=\"0 0 24 24\"\n",
              "       width=\"24px\">\n",
              "    <path d=\"M0 0h24v24H0V0z\" fill=\"none\"/>\n",
              "    <path d=\"M18.56 5.44l.94 2.06.94-2.06 2.06-.94-2.06-.94-.94-2.06-.94 2.06-2.06.94zm-11 1L8.5 8.5l.94-2.06 2.06-.94-2.06-.94L8.5 2.5l-.94 2.06-2.06.94zm10 10l.94 2.06.94-2.06 2.06-.94-2.06-.94-.94-2.06-.94 2.06-2.06.94z\"/><path d=\"M17.41 7.96l-1.37-1.37c-.4-.4-.92-.59-1.43-.59-.52 0-1.04.2-1.43.59L10.3 9.45l-7.72 7.72c-.78.78-.78 2.05 0 2.83L4 21.41c.39.39.9.59 1.41.59.51 0 1.02-.2 1.41-.59l7.78-7.78 2.81-2.81c.8-.78.8-2.07 0-2.86zM5.41 20L4 18.59l7.72-7.72 1.47 1.35L5.41 20z\"/>\n",
              "  </svg>\n",
              "      </button>\n",
              "      \n",
              "  <style>\n",
              "    .colab-df-container {\n",
              "      display:flex;\n",
              "      flex-wrap:wrap;\n",
              "      gap: 12px;\n",
              "    }\n",
              "\n",
              "    .colab-df-convert {\n",
              "      background-color: #E8F0FE;\n",
              "      border: none;\n",
              "      border-radius: 50%;\n",
              "      cursor: pointer;\n",
              "      display: none;\n",
              "      fill: #1967D2;\n",
              "      height: 32px;\n",
              "      padding: 0 0 0 0;\n",
              "      width: 32px;\n",
              "    }\n",
              "\n",
              "    .colab-df-convert:hover {\n",
              "      background-color: #E2EBFA;\n",
              "      box-shadow: 0px 1px 2px rgba(60, 64, 67, 0.3), 0px 1px 3px 1px rgba(60, 64, 67, 0.15);\n",
              "      fill: #174EA6;\n",
              "    }\n",
              "\n",
              "    [theme=dark] .colab-df-convert {\n",
              "      background-color: #3B4455;\n",
              "      fill: #D2E3FC;\n",
              "    }\n",
              "\n",
              "    [theme=dark] .colab-df-convert:hover {\n",
              "      background-color: #434B5C;\n",
              "      box-shadow: 0px 1px 3px 1px rgba(0, 0, 0, 0.15);\n",
              "      filter: drop-shadow(0px 1px 2px rgba(0, 0, 0, 0.3));\n",
              "      fill: #FFFFFF;\n",
              "    }\n",
              "  </style>\n",
              "\n",
              "      <script>\n",
              "        const buttonEl =\n",
              "          document.querySelector('#df-34ec5ed6-39bd-4296-ae59-6c19f4717b91 button.colab-df-convert');\n",
              "        buttonEl.style.display =\n",
              "          google.colab.kernel.accessAllowed ? 'block' : 'none';\n",
              "\n",
              "        async function convertToInteractive(key) {\n",
              "          const element = document.querySelector('#df-34ec5ed6-39bd-4296-ae59-6c19f4717b91');\n",
              "          const dataTable =\n",
              "            await google.colab.kernel.invokeFunction('convertToInteractive',\n",
              "                                                     [key], {});\n",
              "          if (!dataTable) return;\n",
              "\n",
              "          const docLinkHtml = 'Like what you see? Visit the ' +\n",
              "            '<a target=\"_blank\" href=https://colab.research.google.com/notebooks/data_table.ipynb>data table notebook</a>'\n",
              "            + ' to learn more about interactive tables.';\n",
              "          element.innerHTML = '';\n",
              "          dataTable['output_type'] = 'display_data';\n",
              "          await google.colab.output.renderOutput(dataTable, element);\n",
              "          const docLink = document.createElement('div');\n",
              "          docLink.innerHTML = docLinkHtml;\n",
              "          element.appendChild(docLink);\n",
              "        }\n",
              "      </script>\n",
              "    </div>\n",
              "  </div>\n",
              "  "
            ]
          },
          "metadata": {},
          "execution_count": 287
        }
      ]
    },
    {
      "cell_type": "markdown",
      "source": [
        "Exiba apenas as linhas dos paises que começam com a letra T"
      ],
      "metadata": {
        "id": "YYGNfeljhhBB"
      }
    },
    {
      "cell_type": "code",
      "source": [
        "#Primeiro temos que sabem quais são os paises presentes com a letra T\n",
        "paises_T = []\n",
        "for i in Covid_live.Country:\n",
        "  if i[0] in 'Tt':\n",
        "    paises_T.append(i)\n",
        "paises_T"
      ],
      "metadata": {
        "id": "GHb1Y16ThtnA",
        "colab": {
          "base_uri": "https://localhost:8080/"
        },
        "outputId": "fa780f88-d754-4ea0-b2da-64609e1be51c"
      },
      "execution_count": 288,
      "outputs": [
        {
          "output_type": "execute_result",
          "data": {
            "text/plain": [
              "['Turkey',\n",
              " 'Taiwan',\n",
              " 'Thailand',\n",
              " 'Tunisia',\n",
              " 'Trinidad and Tobago',\n",
              " 'Tanzania',\n",
              " 'Togo',\n",
              " 'Timor-Leste',\n",
              " 'Tajikistan',\n",
              " 'Tonga',\n",
              " 'Turks and Caicos',\n",
              " 'Tuvalu']"
            ]
          },
          "metadata": {},
          "execution_count": 288
        }
      ]
    },
    {
      "cell_type": "code",
      "source": [
        "#Agora fazer um loc com os paises com T\n",
        "Covid_live.loc[Covid_live.Country.isin(paises_T)]"
      ],
      "metadata": {
        "id": "AiVF3U5ai0m9",
        "colab": {
          "base_uri": "https://localhost:8080/",
          "height": 608
        },
        "outputId": "02eed395-01cd-4042-fa5a-bc98a630d7c4"
      },
      "execution_count": 289,
      "outputs": [
        {
          "output_type": "execute_result",
          "data": {
            "text/plain": [
              "                 Country Total_Cases Total_Deaths  New_Deaths Total_Recovered  \\\n",
              "Id                                                                              \n",
              "11                Turkey  16,873,793      101,139         NaN      16,754,301   \n",
              "20                Taiwan   6,417,941       11,003         NaN       5,603,195   \n",
              "29              Thailand   4,681,309       32,767         9.0       4,642,083   \n",
              "63               Tunisia   1,145,686       29,249         NaN             NaN   \n",
              "120  Trinidad and Tobago     182,597        4,195         NaN         174,214   \n",
              "159             Tanzania      39,440          845         NaN             NaN   \n",
              "160                 Togo      39,034          285         NaN          38,528   \n",
              "173          Timor-Leste      23,253          138         NaN          23,102   \n",
              "183           Tajikistan      17,786          125         NaN          17,264   \n",
              "185                Tonga      16,182           12         NaN          15,638   \n",
              "212     Turks and Caicos       6,380           36         NaN           6,321   \n",
              "228               Tuvalu          20          NaN         NaN             NaN   \n",
              "\n",
              "    Active_Cases Serious_Critical Total_Cases_1Mpop Deaths_1Mpop  Total_Tests  \\\n",
              "Id                                                                              \n",
              "11        18,353              975           197,211        1,182  162,743,369   \n",
              "20       803,743              NaN           268,661          461   25,998,416   \n",
              "29         6,459            1,496            66,801          468   17,270,775   \n",
              "63           NaN               99            95,104        2,428    4,948,208   \n",
              "120        4,188               18           129,816        2,982      834,508   \n",
              "159          NaN                7               623           13          NaN   \n",
              "160          221              NaN             4,497           33      791,865   \n",
              "173           13              NaN            16,980          101      278,529   \n",
              "183          397              NaN             1,786           13          NaN   \n",
              "185          532              NaN           150,182          111      535,009   \n",
              "212           23                4           160,539          906      550,093   \n",
              "228           20              NaN             1,658          NaN          NaN   \n",
              "\n",
              "    Tests_1Mpop  Population  \n",
              "Id                           \n",
              "11    1,902,052  85,561,976  \n",
              "20    1,088,319  23,888,595  \n",
              "29      246,450  70,078,203  \n",
              "63      410,754  12,046,656  \n",
              "120     593,287   1,406,585  \n",
              "159         NaN  63,298,550  \n",
              "160      91,220   8,680,837  \n",
              "173     203,391   1,369,429  \n",
              "183         NaN   9,957,464  \n",
              "185   4,965,327     107,749  \n",
              "212  13,841,952      39,741  \n",
              "228         NaN      12,066  "
            ],
            "text/html": [
              "\n",
              "  <div id=\"df-de474d86-c018-4965-8bc9-f6d5daf91893\">\n",
              "    <div class=\"colab-df-container\">\n",
              "      <div>\n",
              "<style scoped>\n",
              "    .dataframe tbody tr th:only-of-type {\n",
              "        vertical-align: middle;\n",
              "    }\n",
              "\n",
              "    .dataframe tbody tr th {\n",
              "        vertical-align: top;\n",
              "    }\n",
              "\n",
              "    .dataframe thead th {\n",
              "        text-align: right;\n",
              "    }\n",
              "</style>\n",
              "<table border=\"1\" class=\"dataframe\">\n",
              "  <thead>\n",
              "    <tr style=\"text-align: right;\">\n",
              "      <th></th>\n",
              "      <th>Country</th>\n",
              "      <th>Total_Cases</th>\n",
              "      <th>Total_Deaths</th>\n",
              "      <th>New_Deaths</th>\n",
              "      <th>Total_Recovered</th>\n",
              "      <th>Active_Cases</th>\n",
              "      <th>Serious_Critical</th>\n",
              "      <th>Total_Cases_1Mpop</th>\n",
              "      <th>Deaths_1Mpop</th>\n",
              "      <th>Total_Tests</th>\n",
              "      <th>Tests_1Mpop</th>\n",
              "      <th>Population</th>\n",
              "    </tr>\n",
              "    <tr>\n",
              "      <th>Id</th>\n",
              "      <th></th>\n",
              "      <th></th>\n",
              "      <th></th>\n",
              "      <th></th>\n",
              "      <th></th>\n",
              "      <th></th>\n",
              "      <th></th>\n",
              "      <th></th>\n",
              "      <th></th>\n",
              "      <th></th>\n",
              "      <th></th>\n",
              "      <th></th>\n",
              "    </tr>\n",
              "  </thead>\n",
              "  <tbody>\n",
              "    <tr>\n",
              "      <th>11</th>\n",
              "      <td>Turkey</td>\n",
              "      <td>16,873,793</td>\n",
              "      <td>101,139</td>\n",
              "      <td>NaN</td>\n",
              "      <td>16,754,301</td>\n",
              "      <td>18,353</td>\n",
              "      <td>975</td>\n",
              "      <td>197,211</td>\n",
              "      <td>1,182</td>\n",
              "      <td>162,743,369</td>\n",
              "      <td>1,902,052</td>\n",
              "      <td>85,561,976</td>\n",
              "    </tr>\n",
              "    <tr>\n",
              "      <th>20</th>\n",
              "      <td>Taiwan</td>\n",
              "      <td>6,417,941</td>\n",
              "      <td>11,003</td>\n",
              "      <td>NaN</td>\n",
              "      <td>5,603,195</td>\n",
              "      <td>803,743</td>\n",
              "      <td>NaN</td>\n",
              "      <td>268,661</td>\n",
              "      <td>461</td>\n",
              "      <td>25,998,416</td>\n",
              "      <td>1,088,319</td>\n",
              "      <td>23,888,595</td>\n",
              "    </tr>\n",
              "    <tr>\n",
              "      <th>29</th>\n",
              "      <td>Thailand</td>\n",
              "      <td>4,681,309</td>\n",
              "      <td>32,767</td>\n",
              "      <td>9.0</td>\n",
              "      <td>4,642,083</td>\n",
              "      <td>6,459</td>\n",
              "      <td>1,496</td>\n",
              "      <td>66,801</td>\n",
              "      <td>468</td>\n",
              "      <td>17,270,775</td>\n",
              "      <td>246,450</td>\n",
              "      <td>70,078,203</td>\n",
              "    </tr>\n",
              "    <tr>\n",
              "      <th>63</th>\n",
              "      <td>Tunisia</td>\n",
              "      <td>1,145,686</td>\n",
              "      <td>29,249</td>\n",
              "      <td>NaN</td>\n",
              "      <td>NaN</td>\n",
              "      <td>NaN</td>\n",
              "      <td>99</td>\n",
              "      <td>95,104</td>\n",
              "      <td>2,428</td>\n",
              "      <td>4,948,208</td>\n",
              "      <td>410,754</td>\n",
              "      <td>12,046,656</td>\n",
              "    </tr>\n",
              "    <tr>\n",
              "      <th>120</th>\n",
              "      <td>Trinidad and Tobago</td>\n",
              "      <td>182,597</td>\n",
              "      <td>4,195</td>\n",
              "      <td>NaN</td>\n",
              "      <td>174,214</td>\n",
              "      <td>4,188</td>\n",
              "      <td>18</td>\n",
              "      <td>129,816</td>\n",
              "      <td>2,982</td>\n",
              "      <td>834,508</td>\n",
              "      <td>593,287</td>\n",
              "      <td>1,406,585</td>\n",
              "    </tr>\n",
              "    <tr>\n",
              "      <th>159</th>\n",
              "      <td>Tanzania</td>\n",
              "      <td>39,440</td>\n",
              "      <td>845</td>\n",
              "      <td>NaN</td>\n",
              "      <td>NaN</td>\n",
              "      <td>NaN</td>\n",
              "      <td>7</td>\n",
              "      <td>623</td>\n",
              "      <td>13</td>\n",
              "      <td>NaN</td>\n",
              "      <td>NaN</td>\n",
              "      <td>63,298,550</td>\n",
              "    </tr>\n",
              "    <tr>\n",
              "      <th>160</th>\n",
              "      <td>Togo</td>\n",
              "      <td>39,034</td>\n",
              "      <td>285</td>\n",
              "      <td>NaN</td>\n",
              "      <td>38,528</td>\n",
              "      <td>221</td>\n",
              "      <td>NaN</td>\n",
              "      <td>4,497</td>\n",
              "      <td>33</td>\n",
              "      <td>791,865</td>\n",
              "      <td>91,220</td>\n",
              "      <td>8,680,837</td>\n",
              "    </tr>\n",
              "    <tr>\n",
              "      <th>173</th>\n",
              "      <td>Timor-Leste</td>\n",
              "      <td>23,253</td>\n",
              "      <td>138</td>\n",
              "      <td>NaN</td>\n",
              "      <td>23,102</td>\n",
              "      <td>13</td>\n",
              "      <td>NaN</td>\n",
              "      <td>16,980</td>\n",
              "      <td>101</td>\n",
              "      <td>278,529</td>\n",
              "      <td>203,391</td>\n",
              "      <td>1,369,429</td>\n",
              "    </tr>\n",
              "    <tr>\n",
              "      <th>183</th>\n",
              "      <td>Tajikistan</td>\n",
              "      <td>17,786</td>\n",
              "      <td>125</td>\n",
              "      <td>NaN</td>\n",
              "      <td>17,264</td>\n",
              "      <td>397</td>\n",
              "      <td>NaN</td>\n",
              "      <td>1,786</td>\n",
              "      <td>13</td>\n",
              "      <td>NaN</td>\n",
              "      <td>NaN</td>\n",
              "      <td>9,957,464</td>\n",
              "    </tr>\n",
              "    <tr>\n",
              "      <th>185</th>\n",
              "      <td>Tonga</td>\n",
              "      <td>16,182</td>\n",
              "      <td>12</td>\n",
              "      <td>NaN</td>\n",
              "      <td>15,638</td>\n",
              "      <td>532</td>\n",
              "      <td>NaN</td>\n",
              "      <td>150,182</td>\n",
              "      <td>111</td>\n",
              "      <td>535,009</td>\n",
              "      <td>4,965,327</td>\n",
              "      <td>107,749</td>\n",
              "    </tr>\n",
              "    <tr>\n",
              "      <th>212</th>\n",
              "      <td>Turks and Caicos</td>\n",
              "      <td>6,380</td>\n",
              "      <td>36</td>\n",
              "      <td>NaN</td>\n",
              "      <td>6,321</td>\n",
              "      <td>23</td>\n",
              "      <td>4</td>\n",
              "      <td>160,539</td>\n",
              "      <td>906</td>\n",
              "      <td>550,093</td>\n",
              "      <td>13,841,952</td>\n",
              "      <td>39,741</td>\n",
              "    </tr>\n",
              "    <tr>\n",
              "      <th>228</th>\n",
              "      <td>Tuvalu</td>\n",
              "      <td>20</td>\n",
              "      <td>NaN</td>\n",
              "      <td>NaN</td>\n",
              "      <td>NaN</td>\n",
              "      <td>20</td>\n",
              "      <td>NaN</td>\n",
              "      <td>1,658</td>\n",
              "      <td>NaN</td>\n",
              "      <td>NaN</td>\n",
              "      <td>NaN</td>\n",
              "      <td>12,066</td>\n",
              "    </tr>\n",
              "  </tbody>\n",
              "</table>\n",
              "</div>\n",
              "      <button class=\"colab-df-convert\" onclick=\"convertToInteractive('df-de474d86-c018-4965-8bc9-f6d5daf91893')\"\n",
              "              title=\"Convert this dataframe to an interactive table.\"\n",
              "              style=\"display:none;\">\n",
              "        \n",
              "  <svg xmlns=\"http://www.w3.org/2000/svg\" height=\"24px\"viewBox=\"0 0 24 24\"\n",
              "       width=\"24px\">\n",
              "    <path d=\"M0 0h24v24H0V0z\" fill=\"none\"/>\n",
              "    <path d=\"M18.56 5.44l.94 2.06.94-2.06 2.06-.94-2.06-.94-.94-2.06-.94 2.06-2.06.94zm-11 1L8.5 8.5l.94-2.06 2.06-.94-2.06-.94L8.5 2.5l-.94 2.06-2.06.94zm10 10l.94 2.06.94-2.06 2.06-.94-2.06-.94-.94-2.06-.94 2.06-2.06.94z\"/><path d=\"M17.41 7.96l-1.37-1.37c-.4-.4-.92-.59-1.43-.59-.52 0-1.04.2-1.43.59L10.3 9.45l-7.72 7.72c-.78.78-.78 2.05 0 2.83L4 21.41c.39.39.9.59 1.41.59.51 0 1.02-.2 1.41-.59l7.78-7.78 2.81-2.81c.8-.78.8-2.07 0-2.86zM5.41 20L4 18.59l7.72-7.72 1.47 1.35L5.41 20z\"/>\n",
              "  </svg>\n",
              "      </button>\n",
              "      \n",
              "  <style>\n",
              "    .colab-df-container {\n",
              "      display:flex;\n",
              "      flex-wrap:wrap;\n",
              "      gap: 12px;\n",
              "    }\n",
              "\n",
              "    .colab-df-convert {\n",
              "      background-color: #E8F0FE;\n",
              "      border: none;\n",
              "      border-radius: 50%;\n",
              "      cursor: pointer;\n",
              "      display: none;\n",
              "      fill: #1967D2;\n",
              "      height: 32px;\n",
              "      padding: 0 0 0 0;\n",
              "      width: 32px;\n",
              "    }\n",
              "\n",
              "    .colab-df-convert:hover {\n",
              "      background-color: #E2EBFA;\n",
              "      box-shadow: 0px 1px 2px rgba(60, 64, 67, 0.3), 0px 1px 3px 1px rgba(60, 64, 67, 0.15);\n",
              "      fill: #174EA6;\n",
              "    }\n",
              "\n",
              "    [theme=dark] .colab-df-convert {\n",
              "      background-color: #3B4455;\n",
              "      fill: #D2E3FC;\n",
              "    }\n",
              "\n",
              "    [theme=dark] .colab-df-convert:hover {\n",
              "      background-color: #434B5C;\n",
              "      box-shadow: 0px 1px 3px 1px rgba(0, 0, 0, 0.15);\n",
              "      filter: drop-shadow(0px 1px 2px rgba(0, 0, 0, 0.3));\n",
              "      fill: #FFFFFF;\n",
              "    }\n",
              "  </style>\n",
              "\n",
              "      <script>\n",
              "        const buttonEl =\n",
              "          document.querySelector('#df-de474d86-c018-4965-8bc9-f6d5daf91893 button.colab-df-convert');\n",
              "        buttonEl.style.display =\n",
              "          google.colab.kernel.accessAllowed ? 'block' : 'none';\n",
              "\n",
              "        async function convertToInteractive(key) {\n",
              "          const element = document.querySelector('#df-de474d86-c018-4965-8bc9-f6d5daf91893');\n",
              "          const dataTable =\n",
              "            await google.colab.kernel.invokeFunction('convertToInteractive',\n",
              "                                                     [key], {});\n",
              "          if (!dataTable) return;\n",
              "\n",
              "          const docLinkHtml = 'Like what you see? Visit the ' +\n",
              "            '<a target=\"_blank\" href=https://colab.research.google.com/notebooks/data_table.ipynb>data table notebook</a>'\n",
              "            + ' to learn more about interactive tables.';\n",
              "          element.innerHTML = '';\n",
              "          dataTable['output_type'] = 'display_data';\n",
              "          await google.colab.output.renderOutput(dataTable, element);\n",
              "          const docLink = document.createElement('div');\n",
              "          docLink.innerHTML = docLinkHtml;\n",
              "          element.appendChild(docLink);\n",
              "        }\n",
              "      </script>\n",
              "    </div>\n",
              "  </div>\n",
              "  "
            ]
          },
          "metadata": {},
          "execution_count": 289
        }
      ]
    },
    {
      "cell_type": "markdown",
      "source": [
        "Exiba um dataframe sem as linhas dos paises com a letra A"
      ],
      "metadata": {
        "id": "3U8aHVHcjwbO"
      }
    },
    {
      "cell_type": "code",
      "source": [
        "#Primeiro temos que sabem quais são os paises presentes com a letra A\n",
        "paises_A = []\n",
        "for i in Covid_live.Country:\n",
        "  if i[0] in 'Aa':\n",
        "    paises_A.append(i)\n",
        "paises_A"
      ],
      "metadata": {
        "colab": {
          "base_uri": "https://localhost:8080/"
        },
        "id": "lUTSa4RukFQ-",
        "outputId": "a9649f8a-a88b-47e3-a9d0-9fee2684b272"
      },
      "execution_count": 290,
      "outputs": [
        {
          "output_type": "execute_result",
          "data": {
            "text/plain": [
              "['Australia',\n",
              " 'Argentina',\n",
              " 'Austria',\n",
              " 'Azerbaijan',\n",
              " 'Armenia',\n",
              " 'Albania',\n",
              " 'Algeria',\n",
              " 'Afghanistan',\n",
              " 'Angola',\n",
              " 'Andorra',\n",
              " 'Aruba',\n",
              " 'Antigua and Barbuda',\n",
              " 'Anguilla']"
            ]
          },
          "metadata": {},
          "execution_count": 290
        }
      ]
    },
    {
      "cell_type": "code",
      "source": [
        "#Agora contruir um dataframe somente com os paises com a letra A e então exclui-los atraves do index\n",
        "Covid_live_A = Covid_live.loc[Covid_live.Country.isin(paises_A)]\n",
        "Covid_live_without_A = Covid_live.drop(Covid_live_A.index)"
      ],
      "metadata": {
        "id": "EKFd2f9qkqGk"
      },
      "execution_count": 291,
      "outputs": []
    },
    {
      "cell_type": "code",
      "source": [
        "#Conferir se foram excluidos\n",
        "Covid_live_without_A.loc[Covid_live_without_A.Country.isin(paises_A)]"
      ],
      "metadata": {
        "id": "YwcRb0flrjO8",
        "colab": {
          "base_uri": "https://localhost:8080/",
          "height": 145
        },
        "outputId": "21c5859b-ef5e-465f-aa0c-639a25d398ee"
      },
      "execution_count": 292,
      "outputs": [
        {
          "output_type": "execute_result",
          "data": {
            "text/plain": [
              "Empty DataFrame\n",
              "Columns: [Country, Total_Cases, Total_Deaths, New_Deaths, Total_Recovered, Active_Cases, Serious_Critical, Total_Cases_1Mpop, Deaths_1Mpop, Total_Tests, Tests_1Mpop, Population]\n",
              "Index: []"
            ],
            "text/html": [
              "\n",
              "  <div id=\"df-5f526585-59ba-4d42-be9c-e599fa256ed4\">\n",
              "    <div class=\"colab-df-container\">\n",
              "      <div>\n",
              "<style scoped>\n",
              "    .dataframe tbody tr th:only-of-type {\n",
              "        vertical-align: middle;\n",
              "    }\n",
              "\n",
              "    .dataframe tbody tr th {\n",
              "        vertical-align: top;\n",
              "    }\n",
              "\n",
              "    .dataframe thead th {\n",
              "        text-align: right;\n",
              "    }\n",
              "</style>\n",
              "<table border=\"1\" class=\"dataframe\">\n",
              "  <thead>\n",
              "    <tr style=\"text-align: right;\">\n",
              "      <th></th>\n",
              "      <th>Country</th>\n",
              "      <th>Total_Cases</th>\n",
              "      <th>Total_Deaths</th>\n",
              "      <th>New_Deaths</th>\n",
              "      <th>Total_Recovered</th>\n",
              "      <th>Active_Cases</th>\n",
              "      <th>Serious_Critical</th>\n",
              "      <th>Total_Cases_1Mpop</th>\n",
              "      <th>Deaths_1Mpop</th>\n",
              "      <th>Total_Tests</th>\n",
              "      <th>Tests_1Mpop</th>\n",
              "      <th>Population</th>\n",
              "    </tr>\n",
              "    <tr>\n",
              "      <th>Id</th>\n",
              "      <th></th>\n",
              "      <th></th>\n",
              "      <th></th>\n",
              "      <th></th>\n",
              "      <th></th>\n",
              "      <th></th>\n",
              "      <th></th>\n",
              "      <th></th>\n",
              "      <th></th>\n",
              "      <th></th>\n",
              "      <th></th>\n",
              "      <th></th>\n",
              "    </tr>\n",
              "  </thead>\n",
              "  <tbody>\n",
              "  </tbody>\n",
              "</table>\n",
              "</div>\n",
              "      <button class=\"colab-df-convert\" onclick=\"convertToInteractive('df-5f526585-59ba-4d42-be9c-e599fa256ed4')\"\n",
              "              title=\"Convert this dataframe to an interactive table.\"\n",
              "              style=\"display:none;\">\n",
              "        \n",
              "  <svg xmlns=\"http://www.w3.org/2000/svg\" height=\"24px\"viewBox=\"0 0 24 24\"\n",
              "       width=\"24px\">\n",
              "    <path d=\"M0 0h24v24H0V0z\" fill=\"none\"/>\n",
              "    <path d=\"M18.56 5.44l.94 2.06.94-2.06 2.06-.94-2.06-.94-.94-2.06-.94 2.06-2.06.94zm-11 1L8.5 8.5l.94-2.06 2.06-.94-2.06-.94L8.5 2.5l-.94 2.06-2.06.94zm10 10l.94 2.06.94-2.06 2.06-.94-2.06-.94-.94-2.06-.94 2.06-2.06.94z\"/><path d=\"M17.41 7.96l-1.37-1.37c-.4-.4-.92-.59-1.43-.59-.52 0-1.04.2-1.43.59L10.3 9.45l-7.72 7.72c-.78.78-.78 2.05 0 2.83L4 21.41c.39.39.9.59 1.41.59.51 0 1.02-.2 1.41-.59l7.78-7.78 2.81-2.81c.8-.78.8-2.07 0-2.86zM5.41 20L4 18.59l7.72-7.72 1.47 1.35L5.41 20z\"/>\n",
              "  </svg>\n",
              "      </button>\n",
              "      \n",
              "  <style>\n",
              "    .colab-df-container {\n",
              "      display:flex;\n",
              "      flex-wrap:wrap;\n",
              "      gap: 12px;\n",
              "    }\n",
              "\n",
              "    .colab-df-convert {\n",
              "      background-color: #E8F0FE;\n",
              "      border: none;\n",
              "      border-radius: 50%;\n",
              "      cursor: pointer;\n",
              "      display: none;\n",
              "      fill: #1967D2;\n",
              "      height: 32px;\n",
              "      padding: 0 0 0 0;\n",
              "      width: 32px;\n",
              "    }\n",
              "\n",
              "    .colab-df-convert:hover {\n",
              "      background-color: #E2EBFA;\n",
              "      box-shadow: 0px 1px 2px rgba(60, 64, 67, 0.3), 0px 1px 3px 1px rgba(60, 64, 67, 0.15);\n",
              "      fill: #174EA6;\n",
              "    }\n",
              "\n",
              "    [theme=dark] .colab-df-convert {\n",
              "      background-color: #3B4455;\n",
              "      fill: #D2E3FC;\n",
              "    }\n",
              "\n",
              "    [theme=dark] .colab-df-convert:hover {\n",
              "      background-color: #434B5C;\n",
              "      box-shadow: 0px 1px 3px 1px rgba(0, 0, 0, 0.15);\n",
              "      filter: drop-shadow(0px 1px 2px rgba(0, 0, 0, 0.3));\n",
              "      fill: #FFFFFF;\n",
              "    }\n",
              "  </style>\n",
              "\n",
              "      <script>\n",
              "        const buttonEl =\n",
              "          document.querySelector('#df-5f526585-59ba-4d42-be9c-e599fa256ed4 button.colab-df-convert');\n",
              "        buttonEl.style.display =\n",
              "          google.colab.kernel.accessAllowed ? 'block' : 'none';\n",
              "\n",
              "        async function convertToInteractive(key) {\n",
              "          const element = document.querySelector('#df-5f526585-59ba-4d42-be9c-e599fa256ed4');\n",
              "          const dataTable =\n",
              "            await google.colab.kernel.invokeFunction('convertToInteractive',\n",
              "                                                     [key], {});\n",
              "          if (!dataTable) return;\n",
              "\n",
              "          const docLinkHtml = 'Like what you see? Visit the ' +\n",
              "            '<a target=\"_blank\" href=https://colab.research.google.com/notebooks/data_table.ipynb>data table notebook</a>'\n",
              "            + ' to learn more about interactive tables.';\n",
              "          element.innerHTML = '';\n",
              "          dataTable['output_type'] = 'display_data';\n",
              "          await google.colab.output.renderOutput(dataTable, element);\n",
              "          const docLink = document.createElement('div');\n",
              "          docLink.innerHTML = docLinkHtml;\n",
              "          element.appendChild(docLink);\n",
              "        }\n",
              "      </script>\n",
              "    </div>\n",
              "  </div>\n",
              "  "
            ]
          },
          "metadata": {},
          "execution_count": 292
        }
      ]
    },
    {
      "cell_type": "markdown",
      "source": [
        "### Media, mediana, moda"
      ],
      "metadata": {
        "id": "pqRgK7ikKbrZ"
      }
    },
    {
      "cell_type": "markdown",
      "source": [
        "Qual é a mediana da coluna população"
      ],
      "metadata": {
        "id": "zBCPO01tKoRN"
      }
    },
    {
      "cell_type": "code",
      "source": [
        "#Primeiro tem que ver qual é o type da coluna\n",
        "Covid_live.Population.dtype"
      ],
      "metadata": {
        "colab": {
          "base_uri": "https://localhost:8080/"
        },
        "id": "fkSucZTuKhXI",
        "outputId": "2073da28-7753-4695-9e84-ab7d7df5ae8d"
      },
      "execution_count": 293,
      "outputs": [
        {
          "output_type": "execute_result",
          "data": {
            "text/plain": [
              "dtype('O')"
            ]
          },
          "metadata": {},
          "execution_count": 293
        }
      ]
    },
    {
      "cell_type": "code",
      "source": [
        "#Caso não for int, tevemos tranformar em inteiros"
      ],
      "metadata": {
        "id": "kXUweM7jLRVn"
      },
      "execution_count": 294,
      "outputs": []
    },
    {
      "cell_type": "code",
      "source": [
        "#Para isso devemos formatar as strings para poder tranformar em int\n",
        "#nesse caso eu vi que tinha float no meio das str\n",
        "for p in Covid_live.Population:\n",
        "  if type(p) is float:\n",
        "    print(p)"
      ],
      "metadata": {
        "colab": {
          "base_uri": "https://localhost:8080/"
        },
        "id": "q05JtYmULxpt",
        "outputId": "7f544258-8e9c-4f49-e1a4-53b4762a4cea"
      },
      "execution_count": 295,
      "outputs": [
        {
          "output_type": "stream",
          "name": "stdout",
          "text": [
            "nan\n",
            "nan\n"
          ]
        }
      ]
    },
    {
      "cell_type": "code",
      "source": [],
      "metadata": {
        "id": "QodXXFBbXePS"
      },
      "execution_count": 295,
      "outputs": []
    },
    {
      "cell_type": "code",
      "source": [
        "#Existe valores vazios, então devemos tranformalos em algum valor, porem nesse caso vamos excluir essas duas linhas\n",
        "population_null = Covid_live.loc[Covid_live.Population.isnull()]\n",
        "Covid_population = Covid_live.drop(population_null.index)\n",
        "#Conferir\n",
        "for p in Covid_media_population:\n",
        "  if type(p) is float:\n",
        "    print(p)"
      ],
      "metadata": {
        "id": "WheD7V9DNfzY"
      },
      "execution_count": 296,
      "outputs": []
    },
    {
      "cell_type": "code",
      "source": [
        "#formatar as strings\n",
        "for i, c in enumerate(Covid_population.Population):\n",
        "  aux = c\n",
        "  aux = aux.replace(',','')\n",
        "  Covid_population.Population.iloc[i] = aux"
      ],
      "metadata": {
        "colab": {
          "base_uri": "https://localhost:8080/"
        },
        "id": "ELwyVgsLNnbK",
        "outputId": "ddbbfc90-a7c6-454e-95c1-503d0f539b9c"
      },
      "execution_count": 297,
      "outputs": [
        {
          "output_type": "stream",
          "name": "stderr",
          "text": [
            "/usr/local/lib/python3.7/dist-packages/pandas/core/indexing.py:1732: SettingWithCopyWarning: \n",
            "A value is trying to be set on a copy of a slice from a DataFrame\n",
            "\n",
            "See the caveats in the documentation: https://pandas.pydata.org/pandas-docs/stable/user_guide/indexing.html#returning-a-view-versus-a-copy\n",
            "  self._setitem_single_block(indexer, value, name)\n"
          ]
        }
      ]
    },
    {
      "cell_type": "code",
      "source": [
        "#Transformar para int\n",
        "Covid_population.Population = Covid_population.Population.astype(int)"
      ],
      "metadata": {
        "id": "cfEl7kn6mGk-"
      },
      "execution_count": 298,
      "outputs": []
    },
    {
      "cell_type": "code",
      "source": [
        "#Calcular a mediana da coluna\n",
        "print(\"A mediana da população é:\", Covid_population.Population.median(axis=0))"
      ],
      "metadata": {
        "colab": {
          "base_uri": "https://localhost:8080/"
        },
        "id": "p16d7_8kV6gn",
        "outputId": "98c4e5b4-afc8-48e9-e9bb-317a4f9eb13a"
      },
      "execution_count": 299,
      "outputs": [
        {
          "output_type": "stream",
          "name": "stdout",
          "text": [
            "A mediana da população é: 5816377.5\n"
          ]
        }
      ]
    },
    {
      "cell_type": "markdown",
      "source": [
        "Qual é a media da população?"
      ],
      "metadata": {
        "id": "PyJIsx3Ri8nU"
      }
    },
    {
      "cell_type": "code",
      "source": [
        "print('A media é:', Covid_population.Population.mean() )"
      ],
      "metadata": {
        "colab": {
          "base_uri": "https://localhost:8080/"
        },
        "id": "H8OuV4m5eR0h",
        "outputId": "0cdfe935-8232-424c-966e-af14c84b0eda"
      },
      "execution_count": 300,
      "outputs": [
        {
          "output_type": "stream",
          "name": "stdout",
          "text": [
            "A media é: 34846200.671052635\n"
          ]
        }
      ]
    },
    {
      "cell_type": "code",
      "source": [
        "test = pd.DataFrame([8,4,7])\n",
        "test.mean()"
      ],
      "metadata": {
        "colab": {
          "base_uri": "https://localhost:8080/"
        },
        "id": "V36uZX9Jos9K",
        "outputId": "78873883-1aba-4b5b-ccfe-8714be748f96"
      },
      "execution_count": 301,
      "outputs": [
        {
          "output_type": "execute_result",
          "data": {
            "text/plain": [
              "0    6.333333\n",
              "dtype: float64"
            ]
          },
          "metadata": {},
          "execution_count": 301
        }
      ]
    }
  ]
}